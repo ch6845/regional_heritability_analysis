{
 "cells": [
  {
   "cell_type": "code",
   "execution_count": 1,
   "metadata": {},
   "outputs": [],
   "source": [
    "#import sys\n",
    "#import numpy as np\n",
    "#import pandas as pd\n",
    "#import matplotlib.pyplot as plt\n",
    "#import seaborn as sns\n",
    "#import os\n",
    "#import glob\n",
    "#import time\n",
    "#import subprocess as sp\n",
    "#import multiprocessing as mp\n",
    "#import psutil\n",
    "#import importlib\n",
    "#import log_parser\n",
    "import scipy.stats as st\n",
    "\n",
    "from basic_tools import *\n",
    "\n",
    "debug=False"
   ]
  },
  {
   "cell_type": "code",
   "execution_count": 2,
   "metadata": {},
   "outputs": [
    {
     "name": "stdout",
     "output_type": "stream",
     "text": [
      "data/out_final/uni.4233_raw.ldsc.log passed ('Error in', 'Total Observed scale h2', 'data/out_final/uni.4233_raw.ldsc.log')\n",
      "data/out_final/uni.30510_raw.ldsc.log passed ('Error in', 'Total Observed scale h2', 'data/out_final/uni.30510_raw.ldsc.log')\n"
     ]
    }
   ],
   "source": [
    "h2_myuni_sorted=read_ldsc('uni',False)\n",
    "h2_myuni_sorted=h2_myuni_sorted.merge(phenotypes_filtered[['n_cases', 'n_controls','n_missing', 'n_non_missing']],left_index=True,right_index=True)\n",
    "h2_myuni_sorted['n_effective']=4/(1/h2_myuni_sorted['n_cases']+1/h2_myuni_sorted['n_controls'])\n",
    "h2_myuni_sorted['uni_h2_pval']=st.norm.sf(h2_myuni_sorted['uni.Total Observed scale h2']/h2_myuni_sorted['uni.Total Observed scale h2_se'])"
   ]
  },
  {
   "cell_type": "code",
   "execution_count": 3,
   "metadata": {},
   "outputs": [
    {
     "data": {
      "text/plain": [
       "(2966, 16)"
      ]
     },
     "execution_count": 3,
     "metadata": {},
     "output_type": "execute_result"
    }
   ],
   "source": [
    "h2_myuni_sorted.shape"
   ]
  },
  {
   "cell_type": "code",
   "execution_count": 4,
   "metadata": {},
   "outputs": [],
   "source": [
    "#h2_myuni_sorted['n_non_missing']"
   ]
  },
  {
   "cell_type": "code",
   "execution_count": 5,
   "metadata": {},
   "outputs": [],
   "source": [
    "#h2_myuni_sorted[h2_myuni_sorted['n_effective']>1000 | h2_myuni_sorted['n_effective'].isnull()]\n",
    "h2_myuni_sorted_1=h2_myuni_sorted[(h2_myuni_sorted['n_effective']>30000 )| (h2_myuni_sorted['n_effective'].isnull())]"
   ]
  },
  {
   "cell_type": "code",
   "execution_count": 6,
   "metadata": {},
   "outputs": [
    {
     "data": {
      "text/plain": [
       "(1015, 16)"
      ]
     },
     "execution_count": 6,
     "metadata": {},
     "output_type": "execute_result"
    }
   ],
   "source": [
    "#h2_myuni_sorted['uni.Total Observed scale h2']#/h2_myuni_sorted['uni.Total Observed scale h2_se']\n",
    "h2_myuni_sorted_1.shape"
   ]
  },
  {
   "cell_type": "code",
   "execution_count": 7,
   "metadata": {},
   "outputs": [],
   "source": [
    "h2_myuni_sorted_2=h2_myuni_sorted_1[h2_myuni_sorted_1['uni_h2_pval']<0.01]"
   ]
  },
  {
   "cell_type": "code",
   "execution_count": 8,
   "metadata": {},
   "outputs": [
    {
     "data": {
      "text/plain": [
       "(915, 16)"
      ]
     },
     "execution_count": 8,
     "metadata": {},
     "output_type": "execute_result"
    }
   ],
   "source": [
    "h2_myuni_sorted_2.shape"
   ]
  },
  {
   "cell_type": "code",
   "execution_count": 9,
   "metadata": {},
   "outputs": [],
   "source": [
    "h2_myuni_sorted_3=h2_myuni_sorted_2[h2_myuni_sorted_2['uni.Total Liability scale h2']>0.03]"
   ]
  },
  {
   "cell_type": "code",
   "execution_count": 10,
   "metadata": {},
   "outputs": [
    {
     "data": {
      "text/plain": [
       "(713, 16)"
      ]
     },
     "execution_count": 10,
     "metadata": {},
     "output_type": "execute_result"
    }
   ],
   "source": [
    "h2_myuni_sorted_3.shape"
   ]
  },
  {
   "cell_type": "code",
   "execution_count": 11,
   "metadata": {},
   "outputs": [],
   "source": [
    "h2_myuni_sorted_4=h2_myuni_sorted_3[~h2_myuni_sorted_3.index.str.contains('raw')]"
   ]
  },
  {
   "cell_type": "code",
   "execution_count": 12,
   "metadata": {},
   "outputs": [
    {
     "data": {
      "text/plain": [
       "(561, 16)"
      ]
     },
     "execution_count": 12,
     "metadata": {},
     "output_type": "execute_result"
    }
   ],
   "source": [
    "h2_myuni_sorted_4.shape"
   ]
  },
  {
   "cell_type": "code",
   "execution_count": 13,
   "metadata": {},
   "outputs": [],
   "source": [
    "#phenotypes_filtered.head()"
   ]
  },
  {
   "cell_type": "code",
   "execution_count": 14,
   "metadata": {},
   "outputs": [],
   "source": [
    "phenotypes_filtered.loc[h2_myuni_sorted_4.index].to_csv(phenotypes_uni_filtered_path)"
   ]
  },
  {
   "cell_type": "code",
   "execution_count": null,
   "metadata": {},
   "outputs": [],
   "source": []
  }
 ],
 "metadata": {
  "kernelspec": {
   "display_name": "Python 3",
   "language": "python",
   "name": "python3"
  },
  "language_info": {
   "codemirror_mode": {
    "name": "ipython",
    "version": 3
   },
   "file_extension": ".py",
   "mimetype": "text/x-python",
   "name": "python",
   "nbconvert_exporter": "python",
   "pygments_lexer": "ipython3",
   "version": "3.7.3"
  }
 },
 "nbformat": 4,
 "nbformat_minor": 2
}
