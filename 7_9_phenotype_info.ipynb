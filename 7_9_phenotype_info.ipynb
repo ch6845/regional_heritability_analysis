{
 "cells": [
  {
   "cell_type": "code",
   "execution_count": 1,
   "metadata": {},
   "outputs": [],
   "source": [
    "from basic_tools import *\n",
    "import seaborn as sns\n",
    "import matplotlib.pyplot as plt"
   ]
  },
  {
   "cell_type": "code",
   "execution_count": 2,
   "metadata": {},
   "outputs": [
    {
     "data": {
      "text/plain": [
       "(497, 7622)"
      ]
     },
     "execution_count": 2,
     "metadata": {},
     "output_type": "execute_result"
    }
   ],
   "source": [
    "h2_total=pd.read_csv(h2_total_par_filtered_path,index_col='phenotype')\n",
    "h2_total.shape"
   ]
  },
  {
   "cell_type": "code",
   "execution_count": 3,
   "metadata": {},
   "outputs": [],
   "source": [
    "data_merged=phenotypes_par_filtered.merge(h2_total[h2_total.columns[h2_total.columns.str.contains('uni')]],on='phenotype')\n",
    "data_merged.columns=data_merged.columns.str.replace('uni.','')"
   ]
  },
  {
   "cell_type": "code",
   "execution_count": 4,
   "metadata": {},
   "outputs": [],
   "source": [
    "#data_merged['description']=data_merged.apply(lambda x: '<a href=\"/phenotype/{}\">'.format(x.name)+x['description']+'</a>',axis=1)\n",
    "data_merged['UK Biobank Data Showcase Link']=data_merged['UK Biobank Data Showcase Link']#.map(lambda x: '<a href=\"{}\">{}</a>'.format(x,x) if type(x)==str else '')\n",
    "#=data_merged.apply(lambda x: '<a href=\"{}\">'.format(x['UK Biobank Data Showcase Link'])+x['UK Biobank Data Showcase Link']+'</a>' if type(x),axis=1)\n",
    "\n",
    "data_merged['-log10(h2_p)']=-np.log10(data_merged['Total h2 p']).round(2)\n",
    "data_merged['prev(%)']=(data_merged['n_cases']/(data_merged['n_cases']+data_merged['n_controls'])*100).round(2)\n",
    "data_merged['Mean Chi^2']=data_merged['Mean Chi^2'].round(2)\n",
    "data_merged['Lambda GC']=data_merged['Lambda GC'].round(2)\n",
    "data_merged['Intercept']=data_merged['Intercept'].round(2)"
   ]
  },
  {
   "cell_type": "code",
   "execution_count": 6,
   "metadata": {},
   "outputs": [
    {
     "data": {
      "text/plain": [
       "Index(['PHESANT_transformation', 'Sex', 'description', 'n_cases', 'n_controls',\n",
       "       'n_missing', 'n_non_missing', 'notes', 'source', 'variable_type',\n",
       "       'Phenotype Code', 'UK Biobank Data Showcase Link', 'File',\n",
       "       'wget command', 'Dropbox File', 'filename', 'Total Observed scale h2',\n",
       "       'Total Observed scale h2_se', 'Total Liability scale h2',\n",
       "       'Total Liability scale h2_se', 'Lambda GC', 'Mean Chi^2', 'Intercept',\n",
       "       'Intercept_se', 'Ratio', 'Total h2 z', 'Total h2 p', '-log10(h2_p)',\n",
       "       'prev(%)'],\n",
       "      dtype='object')"
      ]
     },
     "execution_count": 6,
     "metadata": {},
     "output_type": "execute_result"
    }
   ],
   "source": [
    "data_merged.columns"
   ]
  },
  {
   "cell_type": "code",
   "execution_count": 7,
   "metadata": {},
   "outputs": [],
   "source": [
    "data_merged=data_merged[['description', 'Sex', \n",
    "       'Total Observed scale h2', 'Total Observed scale h2_se','Total Liability scale h2', 'Total Liability scale h2_se','-log10(h2_p)',\n",
    "        'Intercept', 'Intercept_se','Ratio','Lambda GC','Mean Chi^2',  \n",
    "        'prev(%)','n_missing', 'n_non_missing', 'n_cases', 'n_controls',               \n",
    "       'UK Biobank Data Showcase Link', 'File',# 'Dropbox File',\n",
    "        'source', 'variable_type','PHESANT_transformation','notes'\n",
    "        ]]\n",
    "\n",
    "data_merged.to_csv(\"phenotype_info.csv\")"
   ]
  },
  {
   "cell_type": "code",
   "execution_count": 8,
   "metadata": {},
   "outputs": [],
   "source": [
    "suffix_bp_list_power=\"bp300 bp128 bp64 bp32 bp16 bp8\".split()"
   ]
  },
  {
   "cell_type": "code",
   "execution_count": 22,
   "metadata": {},
   "outputs": [],
   "source": [
    "#regression_result_bp_list_dict['23115_irnt']"
   ]
  },
  {
   "cell_type": "code",
   "execution_count": 26,
   "metadata": {},
   "outputs": [],
   "source": [
    "for idx,suffix in enumerate(suffix_bp_list_power):\n",
    "    regression_result_bp_list_dict=dict([make_regression_result_list(h2_total,phenotype,suffix_bp_list_power,False) for phenotype in phenotypes_par_filtered.index])\n",
    "\n",
    "    h2_value_df=pd.DataFrame([[phenotype]+(regression_result_list[idx]['h2']).tolist() for phenotype,regression_result_list in regression_result_bp_list_dict.items()])\n",
    "    h2_value_df=h2_value_df.set_index(0)\n",
    "    h2_value_df.columns=regression_result_bp_list_dict['23115_irnt'][idx]['category'].apply(category_to_format,args=('chr_bp',))\n",
    "\n",
    "    file_suffix=suffix[2:]+'Mb' if suffix!='bp300' else 'chr'\n",
    "    h2_value_df.to_csv(\"phenotype_info_{}.csv\".format(file_suffix))"
   ]
  }
 ],
 "metadata": {
  "kernelspec": {
   "display_name": "Python 3",
   "language": "python",
   "name": "python3"
  },
  "language_info": {
   "codemirror_mode": {
    "name": "ipython",
    "version": 3
   },
   "file_extension": ".py",
   "mimetype": "text/x-python",
   "name": "python",
   "nbconvert_exporter": "python",
   "pygments_lexer": "ipython3",
   "version": "3.7.3"
  }
 },
 "nbformat": 4,
 "nbformat_minor": 2
}
