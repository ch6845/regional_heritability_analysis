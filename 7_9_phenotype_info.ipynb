{
 "cells": [
  {
   "cell_type": "code",
   "execution_count": 1,
   "metadata": {},
   "outputs": [],
   "source": [
    "from basic_tools import *\n",
    "import seaborn as sns\n",
    "import matplotlib.pyplot as plt"
   ]
  },
  {
   "cell_type": "code",
   "execution_count": 2,
   "metadata": {},
   "outputs": [
    {
     "data": {
      "text/plain": [
       "(497, 7602)"
      ]
     },
     "execution_count": 2,
     "metadata": {},
     "output_type": "execute_result"
    }
   ],
   "source": [
    "h2_total=pd.read_csv(h2_total_par_filtered_path,index_col='phenotype')\n",
    "h2_total.shape"
   ]
  },
  {
   "cell_type": "code",
   "execution_count": 8,
   "metadata": {},
   "outputs": [],
   "source": [
    "data_merged=phenotypes_par_filtered.merge(h2_total[h2_total.columns[h2_total.columns.str.contains('uni')]],on='phenotype')\n",
    "data_merged.columns=data_merged.columns.str.replace('uni.','')"
   ]
  },
  {
   "cell_type": "code",
   "execution_count": 9,
   "metadata": {},
   "outputs": [],
   "source": [
    "#data_merged['description']=data_merged.apply(lambda x: '<a href=\"/phenotype/{}\">'.format(x.name)+x['description']+'</a>',axis=1)\n",
    "data_merged['UK Biobank Data Showcase Link']=data_merged['UK Biobank Data Showcase Link']#.map(lambda x: '<a href=\"{}\">{}</a>'.format(x,x) if type(x)==str else '')\n",
    "#=data_merged.apply(lambda x: '<a href=\"{}\">'.format(x['UK Biobank Data Showcase Link'])+x['UK Biobank Data Showcase Link']+'</a>' if type(x),axis=1)\n",
    "\n",
    "data_merged['-log10(h2_p)']=-np.log10(data_merged['Total h2 p']).round(2)\n",
    "data_merged['prev(%)']=(data_merged['n_cases']/(data_merged['n_cases']+data_merged['n_controls'])*100).round(2)\n",
    "data_merged['Mean Chi^2']=data_merged['Mean Chi^2'].round(2)\n",
    "data_merged['Lambda GC']=data_merged['Lambda GC'].round(2)\n",
    "data_merged['Intercept']=data_merged['Intercept'].round(2)"
   ]
  },
  {
   "cell_type": "code",
   "execution_count": 10,
   "metadata": {},
   "outputs": [],
   "source": [
    "#data_merged['UK Biobank Data Showcase Link'].iloc[1]"
   ]
  },
  {
   "cell_type": "code",
   "execution_count": 45,
   "metadata": {},
   "outputs": [
    {
     "data": {
      "text/plain": [
       "Index(['PHESANT_transformation', 'Sex', 'description', 'n_cases', 'n_controls',\n",
       "       'n_missing', 'n_non_missing', 'notes', 'source', 'variable_type',\n",
       "       'Phenotype Code', 'UK Biobank Data Showcase Link', 'File',\n",
       "       'wget command', 'Dropbox File', 'filename', 'Total Observed scale h2',\n",
       "       'Total Observed scale h2_se', 'Total Liability scale h2',\n",
       "       'Total Liability scale h2_se', 'Lambda GC', 'Mean Chi^2', 'Intercept',\n",
       "       'Intercept_se', 'Ratio', 'Total h2 z', 'Total h2 p', '-log10(h2_p)',\n",
       "       'prev(%)'],\n",
       "      dtype='object')"
      ]
     },
     "execution_count": 45,
     "metadata": {},
     "output_type": "execute_result"
    }
   ],
   "source": [
    "data_merged.columns"
   ]
  },
  {
   "cell_type": "code",
   "execution_count": 46,
   "metadata": {},
   "outputs": [],
   "source": [
    "data_merged=data_merged[['description', 'Sex', \n",
    "       'Total Observed scale h2', 'Total Observed scale h2_se','Total Liability scale h2', 'Total Liability scale h2_se','-log10(h2_p)',\n",
    "        'Intercept', 'Intercept_se','Ratio','Lambda GC','Mean Chi^2',  \n",
    "        'prev(%)','n_missing', 'n_non_missing', 'n_cases', 'n_controls',               \n",
    "       'UK Biobank Data Showcase Link', 'File',# 'Dropbox File',\n",
    "        'source', 'variable_type','PHESANT_transformation','notes'\n",
    "        ]]"
   ]
  },
  {
   "cell_type": "code",
   "execution_count": 47,
   "metadata": {},
   "outputs": [],
   "source": [
    "tosave=data_merged"
   ]
  },
  {
   "cell_type": "code",
   "execution_count": 13,
   "metadata": {},
   "outputs": [
    {
     "data": {
      "text/plain": [
       "Index(['bp300.filename', 'bp300.Total Observed scale h2',\n",
       "       'bp300.Total Observed scale h2_se', 'bp300.Total Liability scale h2',\n",
       "       'bp300.Total Liability scale h2_se', 'bp300.Lambda GC',\n",
       "       'bp300.Mean Chi^2', 'bp300.Intercept', 'bp300.Intercept_se',\n",
       "       'bp300.Ratio',\n",
       "       ...\n",
       "       'uni.Total Observed scale h2_se', 'uni.Total Liability scale h2',\n",
       "       'uni.Total Liability scale h2_se', 'uni.Lambda GC', 'uni.Mean Chi^2',\n",
       "       'uni.Intercept', 'uni.Intercept_se', 'uni.Ratio', 'uni.Total h2 z',\n",
       "       'uni.Total h2 p'],\n",
       "      dtype='object', length=7602)"
      ]
     },
     "execution_count": 13,
     "metadata": {},
     "output_type": "execute_result"
    }
   ],
   "source": [
    "h2_total.columns"
   ]
  },
  {
   "cell_type": "code",
   "execution_count": 14,
   "metadata": {},
   "outputs": [
    {
     "data": {
      "text/plain": [
       "Index(['PHESANT_transformation', 'Sex', 'description', 'n_cases', 'n_controls',\n",
       "       'n_missing', 'n_non_missing', 'notes', 'source', 'variable_type',\n",
       "       'Phenotype Code', 'UK Biobank Data Showcase Link', 'File',\n",
       "       'wget command', 'Dropbox File', 'filename', 'Total Observed scale h2',\n",
       "       'Total Observed scale h2_se', 'Total Liability scale h2',\n",
       "       'Total Liability scale h2_se', 'Lambda GC', 'Mean Chi^2', 'Intercept',\n",
       "       'Intercept_se', 'Ratio', 'Total h2 z', 'Total h2 p', '-log10(h2_p)',\n",
       "       'prev(%)'],\n",
       "      dtype='object')"
      ]
     },
     "execution_count": 14,
     "metadata": {},
     "output_type": "execute_result"
    }
   ],
   "source": [
    "data_merged.columns"
   ]
  },
  {
   "cell_type": "code",
   "execution_count": 19,
   "metadata": {},
   "outputs": [],
   "source": [
    "data_merged.to_csv(\"phenotype_info.csv\")"
   ]
  },
  {
   "cell_type": "code",
   "execution_count": 21,
   "metadata": {},
   "outputs": [
    {
     "data": {
      "text/plain": [
       "Index(['PHESANT_transformation', 'Sex', 'description', 'n_cases', 'n_controls',\n",
       "       'n_missing', 'n_non_missing', 'notes', 'source', 'variable_type',\n",
       "       'Phenotype Code', 'UK Biobank Data Showcase Link', 'File',\n",
       "       'wget command', 'Dropbox File'],\n",
       "      dtype='object')"
      ]
     },
     "execution_count": 21,
     "metadata": {},
     "output_type": "execute_result"
    }
   ],
   "source": [
    "phenotypes_par_filtered.columns"
   ]
  },
  {
   "cell_type": "code",
   "execution_count": 24,
   "metadata": {},
   "outputs": [],
   "source": [
    "phenotypes_par_filtered[['PHESANT_transformation', 'Sex', 'description', 'n_cases', 'n_controls',\n",
    "       'n_missing', 'n_non_missing', 'notes', 'source', 'variable_type',\n",
    "       'Phenotype Code', 'UK Biobank Data Showcase Link', 'File',]].to_csv(\"phenotype_info.csv\")"
   ]
  },
  {
   "cell_type": "code",
   "execution_count": null,
   "metadata": {},
   "outputs": [],
   "source": []
  }
 ],
 "metadata": {
  "kernelspec": {
   "display_name": "Python 3",
   "language": "python",
   "name": "python3"
  },
  "language_info": {
   "codemirror_mode": {
    "name": "ipython",
    "version": 3
   },
   "file_extension": ".py",
   "mimetype": "text/x-python",
   "name": "python",
   "nbconvert_exporter": "python",
   "pygments_lexer": "ipython3",
   "version": "3.7.3"
  }
 },
 "nbformat": 4,
 "nbformat_minor": 2
}
