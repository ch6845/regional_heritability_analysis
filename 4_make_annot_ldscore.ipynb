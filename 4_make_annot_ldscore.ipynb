{
 "cells": [
  {
   "cell_type": "code",
   "execution_count": 1,
   "metadata": {},
   "outputs": [],
   "source": [
    "import sys\n",
    "import numpy as np\n",
    "import pandas as pd\n",
    "import matplotlib.pyplot as plt\n",
    "import seaborn as sns\n",
    "import os\n",
    "import glob\n",
    "import time\n",
    "import subprocess as sp\n",
    "import multiprocessing as mp\n",
    "import psutil\n",
    "\n",
    "from path_configure import *\n",
    "\n",
    "debug=False"
   ]
  },
  {
   "cell_type": "code",
   "execution_count": 20,
   "metadata": {},
   "outputs": [],
   "source": [
    "def save_annot_chr_cm(pheno_code,chrN,scale=1,mode='cm'):\n",
    "    dest=annot_path.format(pheno_code,chrN)\n",
    "    if os.path.exists(dest):\n",
    "        print(\"Congratulations!. annot of\",pheno_code,chrN,\"exists. passed.\")\n",
    "        return\n",
    "    tosave=pd.read_csv(bim_path.format(chrN),sep='\\t',names=['CHR','SNP','CM','BP','A1','A2'])\n",
    "\n",
    "    if mode=='cm':\n",
    "        cm_series=tosave['CM']\n",
    "    elif mode=='bp':\n",
    "        cm_series=tosave['BP']/1000000\n",
    "    cm_max=int(np.ceil(np.max(cm_series)/scale)*scale)\n",
    "    cm_min=int(np.floor(np.min(cm_series)/scale)*scale)\n",
    "    print(pheno_code,\"chr:\",chrN,\"scale:\",scale,\"{} min,max\".format(mode),cm_min,cm_max)\n",
    "    category=np.zeros(len(cm_series),dtype=np.int32)\n",
    "    category_name=[]\n",
    "    category_count=0\n",
    "    for i in range(cm_min,cm_max,scale):\n",
    "        cm_index=np.logical_and(cm_series>=(i),cm_series<(i+scale))\n",
    "        print(pheno_code,\"chr:\",chrN,\"SNPs in {} range\".format(mode),i,i+scale,\"are\",sum(cm_index),end='')  \n",
    "        if sum(cm_index)>100:\n",
    "            category_count=category_count+1\n",
    "            category[cm_index]=category_count\n",
    "            category_name.append(str(chrN)+'.'+str(i))\n",
    "            print('-> included')\n",
    "        else:\n",
    "            print('-> ignored')\n",
    "            #print(pheno_code,\"chr:\",chrN,\"SNPs in {} range\".format(mode),i,i+scale,\"are ignored\")  \n",
    "\n",
    "    category_onehot=pd.DataFrame(np.vstack([np.zeros(category_count),np.eye(category_count)])[category],columns=category_name,dtype='int32')\n",
    "\n",
    "    tosave.reset_index(drop=False,inplace=True)\n",
    "    tosave=pd.concat([tosave,category_onehot],axis=1, join='inner')\n",
    "    print(tosave[tosave['22.32']==1])\n",
    "    #tosave.to_csv(dest,sep='\\t',columns=['CHR','BP','SNP','CM']+category_name,index=False)\n",
    "    print(\"Saved\",dest)  "
   ]
  },
  {
   "cell_type": "code",
   "execution_count": 3,
   "metadata": {},
   "outputs": [],
   "source": [
    "#Process level parallelism for shell commands\n",
    "def estimate_ldscore_chrN(annot_name,chrN,mode='annot'):\n",
    "    \"\"\"Defines the work unit on an input file\"\"\"\n",
    "    #ldsc.py --l2 --bfile /scratch/ch6845/ukb_ld/ukb_imp_plink_gwas/ukb_imp_chr1_v3 --ld-wind-cm 1 --annot /scratch/ch6845/ukb_ld/annot/23115.chr1.annot --out --print-snps /scratch/ch6845/ukb_ld/hapmap3_snps/hm.1.snp\n",
    "    #ldsc.py --l2 --bfile /data01/ch6845/ukb_imp_plink_gwas/ukb_imp_chr9_v3 --ld-wind-cm 1 --annot /scratch/ch6845/ukb_ld/annot/23115.9.annot --out test2 --print-snps /scratch/ch6845/ukb_ld/hapmap3_snps/hm.9.snp\n",
    "    if mode=='annot':\n",
    "        if os.path.exists(ld_path.format(annot_name,chrN)+'.l2.ldscore.gz'):\n",
    "            print(\"Congratulations!. ld score file of\",annot_name,chrN,\"exists. passed.\")\n",
    "            return 0\n",
    "        scripts=['ldsc.py','--l2','--bfile',bfile_path.format(chrN), '--ld-wind-cm', '1','--annot',annot_path.format(annot_name,chrN),'--out',ld_path.format(annot_name,chrN),'--print-snps',print_snps_path.format(chrN)]\n",
    "    elif mode=='univariate':\n",
    "        annot_name='uni'\n",
    "        if os.path.exists(ld_path.format(annot_name,chrN)+'.l2.ldscore.gz'):\n",
    "            print(\"Congratulations!. ld score file of\",chrN,\"exists. passed.\")\n",
    "            return 0\n",
    "        scripts=['ldsc.py','--l2','--bfile',bfile_path.format(chrN), '--ld-wind-cm', '1','--out',ld_path.format(annot_name,chrN),'--print-snps',print_snps_path.format(chrN)]\n",
    "    print(' '.join(scripts))\n",
    "    sp.call(scripts)    \n",
    "    print(\"estimating ld score of \",annot_name,chrN,\"finished\")\n",
    "    return 0\n",
    "\n",
    "\n",
    "def estimate_ldscore(annot_name):\n",
    "    for chrN in range(1,22+1):\n",
    "        estimate_ldscore_chrN(chrN)\n",
    "    print(\"estimating LD score of\",annot_name,\"for all chr finished\")\n",
    "\n",
    "\n",
    "def estimate_ldscore_parallel(annot_name,mode='annot'):\n",
    "    pool = mp.Pool(processes=22)\n",
    "    if mode=='annot':\n",
    "        pool.starmap(estimate_ldscore_chrN,[[annot_name,chrN] for chrN in range(1,22+1)])\n",
    "    elif mode=='univariate':\n",
    "        pool.starmap(estimate_ldscore_chrN,[[annot_name,chrN,'univariate'] for chrN in range(1,22+1)])\n",
    "    print(\"estimating LD score of\",annot_name,\"finished\")"
   ]
  },
  {
   "cell_type": "code",
   "execution_count": 16,
   "metadata": {},
   "outputs": [
    {
     "ename": "ValueError",
     "evalue": "invalid literal for int() with base 10: '/run/user/1119/jupyter/kernel-e8f480e0-0889-416c-a4b0-98bf963af1d4.json'",
     "output_type": "error",
     "traceback": [
      "\u001b[0;31m---------------------------------------------------------------------------\u001b[0m",
      "\u001b[0;31mValueError\u001b[0m                                Traceback (most recent call last)",
      "\u001b[0;32m<ipython-input-16-e802b2571e46>\u001b[0m in \u001b[0;36m<module>\u001b[0;34m\u001b[0m\n\u001b[1;32m      1\u001b[0m \u001b[0mmode\u001b[0m\u001b[0;34m=\u001b[0m\u001b[0msys\u001b[0m\u001b[0;34m.\u001b[0m\u001b[0margv\u001b[0m\u001b[0;34m[\u001b[0m\u001b[0;36m1\u001b[0m\u001b[0;34m]\u001b[0m\u001b[0;34m\u001b[0m\u001b[0;34m\u001b[0m\u001b[0m\n\u001b[0;32m----> 2\u001b[0;31m \u001b[0mscale\u001b[0m\u001b[0;34m=\u001b[0m\u001b[0mint\u001b[0m\u001b[0;34m(\u001b[0m\u001b[0msys\u001b[0m\u001b[0;34m.\u001b[0m\u001b[0margv\u001b[0m\u001b[0;34m[\u001b[0m\u001b[0;36m2\u001b[0m\u001b[0;34m]\u001b[0m\u001b[0;34m)\u001b[0m\u001b[0;34m\u001b[0m\u001b[0;34m\u001b[0m\u001b[0m\n\u001b[0m",
      "\u001b[0;31mValueError\u001b[0m: invalid literal for int() with base 10: '/run/user/1119/jupyter/kernel-e8f480e0-0889-416c-a4b0-98bf963af1d4.json'"
     ]
    }
   ],
   "source": [
    "mode=sys.argv[1]\n",
    "scale=int(sys.argv[2])"
   ]
  },
  {
   "cell_type": "markdown",
   "metadata": {},
   "source": [
    "```\n",
    "jupyter nbconvert 4_make_annot_ldscore.ipynb --to script && python 4_make_annot_ldscore.py 64 bp\n",
    "python 4_make_annot_ldscore.py bp 300\n",
    "```"
   ]
  },
  {
   "cell_type": "code",
   "execution_count": 178,
   "metadata": {},
   "outputs": [
    {
     "ename": "NameError",
     "evalue": "name 'scale' is not defined",
     "output_type": "error",
     "traceback": [
      "\u001b[0;31m---------------------------------------------------------------------------\u001b[0m",
      "\u001b[0;31mNameError\u001b[0m                                 Traceback (most recent call last)",
      "\u001b[0;32m<ipython-input-178-605b8fb930d5>\u001b[0m in \u001b[0;36m<module>\u001b[0;34m\u001b[0m\n\u001b[0;32m----> 1\u001b[0;31m \u001b[0;32mif\u001b[0m \u001b[0mscale\u001b[0m\u001b[0;34m!=\u001b[0m\u001b[0;36m0\u001b[0m\u001b[0;34m:\u001b[0m\u001b[0;34m\u001b[0m\u001b[0;34m\u001b[0m\u001b[0m\n\u001b[0m\u001b[1;32m      2\u001b[0m     \u001b[0;32mfor\u001b[0m \u001b[0mchrN\u001b[0m \u001b[0;32min\u001b[0m \u001b[0mrange\u001b[0m\u001b[0;34m(\u001b[0m\u001b[0;36m1\u001b[0m\u001b[0;34m,\u001b[0m\u001b[0;36m22\u001b[0m\u001b[0;34m+\u001b[0m\u001b[0;36m1\u001b[0m\u001b[0;34m)\u001b[0m\u001b[0;34m:\u001b[0m\u001b[0;34m\u001b[0m\u001b[0;34m\u001b[0m\u001b[0m\n\u001b[1;32m      3\u001b[0m         \u001b[0;32mif\u001b[0m \u001b[0mmode\u001b[0m\u001b[0;34m==\u001b[0m\u001b[0;34m'ld'\u001b[0m\u001b[0;34m:\u001b[0m\u001b[0;34m\u001b[0m\u001b[0;34m\u001b[0m\u001b[0m\n\u001b[1;32m      4\u001b[0m             \u001b[0msave_annot_chr_ld\u001b[0m\u001b[0;34m(\u001b[0m\u001b[0mgwas_result\u001b[0m\u001b[0;34m,\u001b[0m\u001b[0mmode\u001b[0m\u001b[0;34m+\u001b[0m\u001b[0mstr\u001b[0m\u001b[0;34m(\u001b[0m\u001b[0mscale\u001b[0m\u001b[0;34m)\u001b[0m\u001b[0;34m,\u001b[0m\u001b[0mchrN\u001b[0m\u001b[0;34m,\u001b[0m\u001b[0mscale\u001b[0m\u001b[0;34m=\u001b[0m\u001b[0mscale\u001b[0m\u001b[0;34m)\u001b[0m\u001b[0;34m\u001b[0m\u001b[0;34m\u001b[0m\u001b[0m\n\u001b[1;32m      5\u001b[0m         \u001b[0;32melif\u001b[0m \u001b[0mmode\u001b[0m\u001b[0;34m==\u001b[0m\u001b[0;34m'cm'\u001b[0m \u001b[0;32mor\u001b[0m \u001b[0mmode\u001b[0m\u001b[0;34m==\u001b[0m\u001b[0;34m'bp'\u001b[0m\u001b[0;34m:\u001b[0m\u001b[0;34m\u001b[0m\u001b[0;34m\u001b[0m\u001b[0m\n",
      "\u001b[0;31mNameError\u001b[0m: name 'scale' is not defined"
     ]
    }
   ],
   "source": [
    "if scale!=0:\n",
    "    for chrN in range(1,22+1):\n",
    "        save_annot_chr_cm(mode+str(scale),chrN,scale=scale,mode=mode)"
   ]
  },
  {
   "cell_type": "code",
   "execution_count": 7,
   "metadata": {},
   "outputs": [
    {
     "name": "stdout",
     "output_type": "stream",
     "text": [
      "Congratulations!. ld score file of cm8 4 exists. passed.\n",
      "Congratulations!. ld score file of cm8 8 exists. passed.\n",
      "Congratulations!. ld score file of cm8 6 exists. passed.\n",
      "Congratulations!. ld score file of cm8 7 exists. passed.\n",
      "Congratulations!. ld score file of cm8 15 exists. passed.\n",
      "Congratulations!. ld score file of cm8 5 exists. passed.\n",
      "Congratulations!. ld score file of cm8 17 exists. passed.\n",
      "Congratulations!. ld score file of cm8 18 exists. passed.\n",
      "Congratulations!. ld score file of cm8 9 exists. passed.\n",
      "Congratulations!. ld score file of cm8 2 exists. passed.\n",
      "Congratulations!. ld score file of cm8 14 exists. passed.\n",
      "Congratulations!. ld score file of cm8 16 exists. passed.\n",
      "ldsc.py --l2 --bfile data/ukb_imp_plink_gwas/ukb_imp_chr1_v3 --ld-wind-cm 1 --annot data/out_annot/cm8.1.annot --out data/out_annot/cm8.1 --print-snps data/hapmap3_snps/hm.1.snp\n",
      "Congratulations!. ld score file of cm8 21 exists. passed.\n",
      "Congratulations!. ld score file of cm8 19 exists. passed.\n",
      "Congratulations!. ld score file of cm8 22 exists. passed.\n",
      "Congratulations!. ld score file of cm8 3 exists. passed.\n",
      "Congratulations!. ld score file of cm8 20 exists. passed.\n",
      "Congratulations!. ld score file of cm8 10 exists. passed.\n",
      "Congratulations!. ld score file of cm8 12 exists. passed.\n",
      "Congratulations!. ld score file of cm8 13 exists. passed.\n",
      "Congratulations!. ld score file of cm8 11 exists. passed.\n",
      "estimating ld score of  cm8 1 finished\n",
      "estimating LD score of cm8 finished\n"
     ]
    }
   ],
   "source": [
    "if scale==0:\n",
    "    estimate_ldscore_parallel('uni','univariate')\n",
    "else:\n",
    "    estimate_ldscore_parallel(mode+str(scale),'annot')"
   ]
  },
  {
   "cell_type": "markdown",
   "metadata": {},
   "source": [
    "```\n",
    "for i in {1..22}; do gzip -d \"./bp300.${i}.l2.ldscore.gz\"; sed -i -e \"s/CHR\\tSNP\\tBP\\tL2/CHR\\tSNP\\tBP\\t${i}.0L2/g\" \"./bp300.${i}.l2.ldscore\"; gzip \"./bp300.${i}.l2.ldscore\" ; done\n",
    "\n",
    "for i in {1..22}; do gzip -d \"./bp128.${i}.l2.ldscore.gz\"; sed -i -e \"s/CHR\\tSNP\\tBP\\tL2/CHR\\tSNP\\tBP\\t${i}.0L2/g\" \"./bp128.${i}.l2.ldscore\"; gzip \"./bp128.${i}.l2.ldscore\" ; done\n",
    "\n",
    "for i in {1..22}; do gzip -d \"./bp64.${i}.l2.ldscore.gz\"; sed -i -e \"s/CHR\\tSNP\\tBP\\tL2/CHR\\tSNP\\tBP\\t${i}.0L2/g\" \"./bp64.${i}.l2.ldscore\"; gzip \"./bp64.${i}.l2.ldscore\" ; done\n",
    "\n",
    "```"
   ]
  }
 ],
 "metadata": {
  "kernelspec": {
   "display_name": "Python 3",
   "language": "python",
   "name": "python3"
  },
  "language_info": {
   "codemirror_mode": {
    "name": "ipython",
    "version": 3
   },
   "file_extension": ".py",
   "mimetype": "text/x-python",
   "name": "python",
   "nbconvert_exporter": "python",
   "pygments_lexer": "ipython3",
   "version": "3.7.3"
  }
 },
 "nbformat": 4,
 "nbformat_minor": 2
}
