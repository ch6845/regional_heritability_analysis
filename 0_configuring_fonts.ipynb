{
 "cells": [
  {
   "cell_type": "code",
   "execution_count": 1,
   "metadata": {},
   "outputs": [],
   "source": [
    "import matplotlib as mpl\n",
    "import matplotlib.pyplot as plt\n",
    "import matplotlib.font_manager as fm"
   ]
  },
  {
   "cell_type": "markdown",
   "metadata": {},
   "source": [
    "# Default Setting"
   ]
  },
  {
   "cell_type": "code",
   "execution_count": 7,
   "metadata": {},
   "outputs": [
    {
     "name": "stdout",
     "output_type": "stream",
     "text": [
      "font.cursive: ['Apple Chancery', 'Textile', 'Zapf Chancery', 'Sand', 'Script MT', 'Felipa', 'cursive']\n",
      "font.family: ['sans-serif']\n",
      "font.fantasy: ['Comic Sans MS', 'Chicago', 'Charcoal', 'Impact', 'Western', 'Humor Sans', 'xkcd', 'fantasy']\n",
      "font.monospace: ['DejaVu Sans Mono', 'Bitstream Vera Sans Mono', 'Computer Modern Typewriter', 'Andale Mono', 'Nimbus Mono L', 'Courier New', 'Courier', 'Fixed', 'Terminal', 'monospace']\n",
      "font.sans-serif: ['DejaVu Sans', 'Bitstream Vera Sans', 'Computer Modern Sans Serif', 'Lucida Grande', 'Verdana', 'Geneva', 'Lucid', 'Arial', 'Helvetica', 'Avant Garde', 'sans-serif']\n",
      "font.serif: ['DejaVu Serif', 'Bitstream Vera Serif', 'Computer Modern Roman', 'New Century Schoolbook', 'Century Schoolbook L', 'Utopia', 'ITC Bookman', 'Bookman', 'Nimbus Roman No9 L', 'Times New Roman', 'Times', 'Palatino', 'Charter', 'serif']\n",
      "font.size: 10.0\n",
      "font.stretch: normal\n",
      "font.style: normal\n",
      "font.variant: normal\n",
      "font.weight: normal\n",
      "legend.fontsize: medium\n",
      "legend.title_fontsize: None\n",
      "mathtext.fontset: dejavusans\n",
      "pdf.fonttype: 3\n",
      "pdf.use14corefonts: False\n",
      "pgf.rcfonts: True\n",
      "ps.fonttype: 3\n",
      "svg.fonttype: path\n"
     ]
    }
   ],
   "source": [
    "for key in plt.rcParamsDefault.keys():\n",
    "    if 'font' in key:\n",
    "        print(\"{}: {}\".format(key, plt.rcParamsDefault[key]))"
   ]
  },
  {
   "cell_type": "markdown",
   "metadata": {},
   "source": [
    "# Installing ttf"
   ]
  },
  {
   "cell_type": "code",
   "execution_count": 3,
   "metadata": {},
   "outputs": [
    {
     "data": {
      "text/plain": [
       "'/home/ch6845/tools/miniconda3/lib/python3.7/site-packages/matplotlib/mpl-data'"
      ]
     },
     "execution_count": 3,
     "metadata": {},
     "output_type": "execute_result"
    }
   ],
   "source": [
    "mpl.get_data_path()"
   ]
  },
  {
   "cell_type": "code",
   "execution_count": 4,
   "metadata": {},
   "outputs": [
    {
     "name": "stdout",
     "output_type": "stream",
     "text": [
      "버전:  3.0.3\n",
      "설치 위치:  /home/ch6845/tools/miniconda3/lib/python3.7/site-packages/matplotlib/__init__.py\n",
      "설정 위치:  /home/ch6845/.config/matplotlib\n",
      "캐시 위치:  /home/ch6845/.cache/matplotlib\n",
      "데이터 위치:  /home/ch6845/tools/miniconda3/lib/python3.7/site-packages/matplotlib/mpl-data\n"
     ]
    }
   ],
   "source": [
    "print ('버전: ', mpl.__version__)\n",
    "print ('설치 위치: ', mpl.__file__)\n",
    "print ('설정 위치: ', mpl.get_configdir())\n",
    "print ('캐시 위치: ', mpl.get_cachedir())\n",
    "print ('데이터 위치: ', mpl.get_data_path())"
   ]
  },
  {
   "cell_type": "code",
   "execution_count": 4,
   "metadata": {},
   "outputs": [
    {
     "name": "stdout",
     "output_type": "stream",
     "text": [
      "17\n",
      "['/usr/share/fonts/liberation/LiberationMono-Regular.ttf', '/usr/share/fonts/stix/STIX-BoldItalic.otf', '/usr/share/fonts/dejavu/DejaVuSans-ExtraLight.ttf', '/usr/share/fonts/stix/STIX-Regular.otf', '/usr/share/fonts/dejavu/DejaVuSans.ttf', '/usr/share/fonts/liberation/LiberationMono-Italic.ttf', '/usr/share/fonts/liberation/LiberationMono-BoldItalic.ttf', '/usr/share/fonts/dejavu/DejaVuSans-BoldOblique.ttf', '/usr/share/fonts/dejavu/DejaVuSansCondensed-Bold.ttf', '/usr/share/fonts/dejavu/DejaVuSans-Oblique.ttf', '/usr/share/fonts/stix/STIX-Italic.otf', '/usr/share/fonts/liberation/LiberationMono-Bold.ttf', '/usr/share/fonts/dejavu/DejaVuSansCondensed-BoldOblique.ttf', '/usr/share/fonts/dejavu/DejaVuSans-Bold.ttf', '/usr/share/fonts/dejavu/DejaVuSansCondensed.ttf', '/usr/share/fonts/dejavu/DejaVuSansCondensed-Oblique.ttf', '/usr/share/fonts/stix/STIX-Bold.otf']\n"
     ]
    }
   ],
   "source": [
    "font_list = fm.findSystemFonts(fontpaths=None, fontext='ttf')\n",
    "\n",
    "print(len(font_list))\n",
    "print(font_list)"
   ]
  },
  {
   "cell_type": "markdown",
   "metadata": {},
   "source": [
    "## Copy ttf file"
   ]
  },
  {
   "cell_type": "markdown",
   "metadata": {},
   "source": [
    "copy the file to mp.get_data_path()+/ttf"
   ]
  },
  {
   "cell_type": "markdown",
   "metadata": {},
   "source": [
    "## Delete cache"
   ]
  },
  {
   "cell_type": "code",
   "execution_count": 10,
   "metadata": {},
   "outputs": [
    {
     "name": "stdout",
     "output_type": "stream",
     "text": [
      "/home/ch6845/.cache/matplotlib\n"
     ]
    }
   ],
   "source": [
    "print(matplotlib.get_cachedir())"
   ]
  },
  {
   "cell_type": "markdown",
   "metadata": {},
   "source": [
    "## Get name"
   ]
  },
  {
   "cell_type": "code",
   "execution_count": 11,
   "metadata": {},
   "outputs": [
    {
     "data": {
      "text/plain": [
       "'Arial'"
      ]
     },
     "execution_count": 11,
     "metadata": {},
     "output_type": "execute_result"
    }
   ],
   "source": [
    "prop=fm.FontProperties(fname='/home/ch6845/tools/fonts/ARIALBI.TTF')\n",
    "prop.get_name()"
   ]
  },
  {
   "cell_type": "code",
   "execution_count": 7,
   "metadata": {},
   "outputs": [
    {
     "name": "stdout",
     "output_type": "stream",
     "text": [
      "# 설정되어있는 폰트 사이즈\n",
      "10.0\n",
      "# 설정되어있는 폰트 글꼴\n",
      "['sans-serif']\n"
     ]
    }
   ],
   "source": [
    "\n",
    "print('# 설정되어있는 폰트 사이즈')\n",
    "print (plt.rcParams['font.size'] ) \n",
    "print('# 설정되어있는 폰트 글꼴')\n",
    "print (plt.rcParams['font.family'] )"
   ]
  },
  {
   "cell_type": "code",
   "execution_count": null,
   "metadata": {},
   "outputs": [],
   "source": [
    "prop = font_manager.FontProperties(fname=path)\n",
    "mpl.rcParams['font.family'] = prop.get_name()"
   ]
  },
  {
   "cell_type": "markdown",
   "metadata": {},
   "source": [
    "# Setting rcParams"
   ]
  },
  {
   "cell_type": "markdown",
   "metadata": {},
   "source": [
    "## Directly setting rcParams everytime"
   ]
  },
  {
   "cell_type": "code",
   "execution_count": null,
   "metadata": {},
   "outputs": [],
   "source": [
    "mpl.rcParams"
   ]
  },
  {
   "cell_type": "code",
   "execution_count": 8,
   "metadata": {},
   "outputs": [
    {
     "name": "stdout",
     "output_type": "stream",
     "text": [
      "serif 세리프가 있는 폰트--------\n",
      "['DejaVu Serif', 'Bitstream Vera Serif', 'Computer Modern Roman', 'New Century Schoolbook', 'Century Schoolbook L', 'Utopia', 'ITC Bookman', 'Bookman', 'Nimbus Roman No9 L', 'Times New Roman', 'Times', 'Palatino', 'Charter', 'serif']\n",
      "sans-serif 세리프가 없는 폰트 --------\n",
      "['DejaVu Sans', 'Bitstream Vera Sans', 'Computer Modern Sans Serif', 'Lucida Grande', 'Verdana', 'Geneva', 'Lucid', 'Arial', 'Helvetica', 'Avant Garde', 'sans-serif']\n",
      "monospace 고정폭 글꼴--------\n",
      "['DejaVu Sans Mono', 'Bitstream Vera Sans Mono', 'Computer Modern Typewriter', 'Andale Mono', 'Nimbus Mono L', 'Courier New', 'Courier', 'Fixed', 'Terminal', 'monospace']\n"
     ]
    }
   ],
   "source": [
    "print('serif with serif')\n",
    "print (plt.rcParams['font.serif']) \n",
    "print('sans-serif without serif')\n",
    "print (plt.rcParams['font.sans-serif']) \n",
    "print('monospace fixed-width font--------')\n",
    "print (plt.rcParams['font.monospace'])"
   ]
  },
  {
   "cell_type": "markdown",
   "metadata": {},
   "source": [
    "## Write in matplotlib Configuration file"
   ]
  },
  {
   "cell_type": "code",
   "execution_count": 2,
   "metadata": {},
   "outputs": [
    {
     "name": "stdout",
     "output_type": "stream",
     "text": [
      "설정 파일 위치:  /home/ch6845/tools/miniconda3/lib/python3.7/site-packages/matplotlib/mpl-data/matplotlibrc\n"
     ]
    }
   ],
   "source": [
    "print ('설정 파일 위치: ', mpl.matplotlib_fname())"
   ]
  },
  {
   "cell_type": "markdown",
   "metadata": {},
   "source": [
    "# Test"
   ]
  },
  {
   "cell_type": "code",
   "execution_count": 2,
   "metadata": {},
   "outputs": [
    {
     "name": "stderr",
     "output_type": "stream",
     "text": [
      "/home/ch6845/tools/miniconda3/lib/python3.7/site-packages/matplotlib/font_manager.py:1241: UserWarning: findfont: Font family ['san-serif'] not found. Falling back to DejaVu Sans.\n",
      "  (prop.get_family(), self.defaultFamily[fontext]))\n"
     ]
    },
    {
     "data": {
      "image/png": "[encoded data removed]",
      "text/plain": [
       "<Figure size 432x288 with 1 Axes>"
      ]
     },
     "metadata": {
      "needs_background": "light"
     },
     "output_type": "display_data"
    }
   ],
   "source": [
    "mpl.rcParams['font.family'] =['san-serif']\n",
    "fig, ax = plt.subplots()\n",
    "ax.set_title('Text in a cool font', size=50)\n",
    "plt.show()"
   ]
  },
  {
   "cell_type": "code",
   "execution_count": 3,
   "metadata": {},
   "outputs": [
    {
     "data": {
      "image/png": "[encoded data removed]",
      "text/plain": [
       "<Figure size 432x288 with 1 Axes>"
      ]
     },
     "metadata": {
      "needs_background": "light"
     },
     "output_type": "display_data"
    }
   ],
   "source": [
    "mpl.rcParams['font.family'] ='Arial'\n",
    "fig, ax = plt.subplots()\n",
    "ax.set_title('Text in a cool font', size=50)\n",
    "plt.show()"
   ]
  },
  {
   "cell_type": "code",
   "execution_count": 7,
   "metadata": {},
   "outputs": [
    {
     "data": {
      "image/png": "[encoded data removed]",
      "text/plain": [
       "<Figure size 432x288 with 1 Axes>"
      ]
     },
     "metadata": {
      "needs_background": "light"
     },
     "output_type": "display_data"
    }
   ],
   "source": [
    "mpl.rcParams['font.family'] =['Arial']\n",
    "fig, ax = plt.subplots()\n",
    "ax.set_title('Text in a cool font', size=50)\n",
    "plt.show()"
   ]
  },
  {
   "cell_type": "code",
   "execution_count": null,
   "metadata": {},
   "outputs": [],
   "source": []
  }
 ],
 "metadata": {
  "kernelspec": {
   "display_name": "Python 3",
   "language": "python",
   "name": "python3"
  },
  "language_info": {
   "codemirror_mode": {
    "name": "ipython",
    "version": 3
   },
   "file_extension": ".py",
   "mimetype": "text/x-python",
   "name": "python",
   "nbconvert_exporter": "python",
   "pygments_lexer": "ipython3",
   "version": "3.7.3"
  },
  "toc-autonumbering": true
 },
 "nbformat": 4,
 "nbformat_minor": 2
}
