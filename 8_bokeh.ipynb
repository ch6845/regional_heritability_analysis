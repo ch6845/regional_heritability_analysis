{
 "cells": [
  {
   "cell_type": "code",
   "execution_count": 1,
   "metadata": {},
   "outputs": [],
   "source": [
    "#import bokeh.sampledata"
   ]
  },
  {
   "cell_type": "code",
   "execution_count": 2,
   "metadata": {},
   "outputs": [],
   "source": [
    "from basic_tools import *\n",
    "import matplotlib.pyplot as plt\n",
    "import seaborn as sns\n",
    "import scipy.stats as st\n",
    "import json"
   ]
  },
  {
   "cell_type": "code",
   "execution_count": 3,
   "metadata": {},
   "outputs": [],
   "source": [
    "from bokeh.io import output_file, show\n",
    "from bokeh.embed import json_item\n",
    "from bokeh.plotting import figure\n",
    "\n",
    "from bokeh.transform import cumsum\n",
    "from bokeh.models import Plot, Range1d, Circle, MultiLine\n",
    "from bokeh.models import TapTool, PanTool, WheelZoomTool,WheelPanTool, HoverTool, BoxZoomTool, ResetTool,LassoSelectTool, UndoTool, RedoTool,SaveTool,ZoomOutTool\n",
    "from bokeh.embed import components"
   ]
  },
  {
   "cell_type": "markdown",
   "metadata": {},
   "source": [
    "# Loading variables and basic functions"
   ]
  },
  {
   "cell_type": "code",
   "execution_count": 4,
   "metadata": {},
   "outputs": [
    {
     "data": {
      "text/plain": [
       "(497, 7622)"
      ]
     },
     "execution_count": 4,
     "metadata": {},
     "output_type": "execute_result"
    }
   ],
   "source": [
    "h2_total=pd.read_csv(h2_total_par_filtered_path,index_col='phenotype')\n",
    "h2_total.shape"
   ]
  },
  {
   "cell_type": "code",
   "execution_count": 5,
   "metadata": {},
   "outputs": [],
   "source": [
    "suffix_bp_list_power=\"bp300 bp128 bp64 bp32 bp16 bp8\".split()"
   ]
  },
  {
   "cell_type": "code",
   "execution_count": 6,
   "metadata": {},
   "outputs": [],
   "source": [
    "regression_result_bp_list_dict=dict([make_regression_result_list(h2_total,phenotype,suffix_bp_list_power,False) for phenotype in phenotypes_par_filtered.index])"
   ]
  },
  {
   "cell_type": "code",
   "execution_count": 7,
   "metadata": {},
   "outputs": [
    {
     "name": "stdout",
     "output_type": "stream",
     "text": [
      "found that variables 'gwas_result_sample','chr_bp_max' were not loaded. trying to load the variables\n",
      "gwas_result_sample.shape: (13364303, 18)\n"
     ]
    },
    {
     "data": {
      "text/html": [
       "<div>\n",
       "<style scoped>\n",
       "    .dataframe tbody tr th:only-of-type {\n",
       "        vertical-align: middle;\n",
       "    }\n",
       "\n",
       "    .dataframe tbody tr th {\n",
       "        vertical-align: top;\n",
       "    }\n",
       "\n",
       "    .dataframe thead th {\n",
       "        text-align: right;\n",
       "    }\n",
       "</style>\n",
       "<table border=\"1\" class=\"dataframe\">\n",
       "  <thead>\n",
       "    <tr style=\"text-align: right;\">\n",
       "      <th></th>\n",
       "      <th>bp300</th>\n",
       "      <th>bp128</th>\n",
       "      <th>bp64</th>\n",
       "      <th>bp32</th>\n",
       "      <th>bp16</th>\n",
       "      <th>bp8</th>\n",
       "    </tr>\n",
       "    <tr>\n",
       "      <th>0</th>\n",
       "      <th></th>\n",
       "      <th></th>\n",
       "      <th></th>\n",
       "      <th></th>\n",
       "      <th></th>\n",
       "      <th></th>\n",
       "    </tr>\n",
       "  </thead>\n",
       "  <tbody>\n",
       "    <tr>\n",
       "      <th>6138_1</th>\n",
       "      <td>1.000000</td>\n",
       "      <td>0.898765</td>\n",
       "      <td>1.000000</td>\n",
       "      <td>1.000000</td>\n",
       "      <td>0.994746</td>\n",
       "      <td>1.000000</td>\n",
       "    </tr>\n",
       "    <tr>\n",
       "      <th>23115_irnt</th>\n",
       "      <td>0.871682</td>\n",
       "      <td>0.754938</td>\n",
       "      <td>0.862953</td>\n",
       "      <td>0.900980</td>\n",
       "      <td>0.980785</td>\n",
       "      <td>0.989842</td>\n",
       "    </tr>\n",
       "    <tr>\n",
       "      <th>23119_irnt</th>\n",
       "      <td>0.832710</td>\n",
       "      <td>0.777364</td>\n",
       "      <td>0.862892</td>\n",
       "      <td>0.898101</td>\n",
       "      <td>0.983032</td>\n",
       "      <td>0.982370</td>\n",
       "    </tr>\n",
       "    <tr>\n",
       "      <th>23104_irnt</th>\n",
       "      <td>0.825578</td>\n",
       "      <td>0.799314</td>\n",
       "      <td>0.894048</td>\n",
       "      <td>0.903790</td>\n",
       "      <td>0.991330</td>\n",
       "      <td>0.979252</td>\n",
       "    </tr>\n",
       "    <tr>\n",
       "      <th>2139_irnt</th>\n",
       "      <td>0.935974</td>\n",
       "      <td>0.763283</td>\n",
       "      <td>0.866459</td>\n",
       "      <td>0.888004</td>\n",
       "      <td>0.979229</td>\n",
       "      <td>0.978693</td>\n",
       "    </tr>\n",
       "  </tbody>\n",
       "</table>\n",
       "</div>"
      ],
      "text/plain": [
       "               bp300     bp128      bp64      bp32      bp16       bp8\n",
       "0                                                                     \n",
       "6138_1      1.000000  0.898765  1.000000  1.000000  0.994746  1.000000\n",
       "23115_irnt  0.871682  0.754938  0.862953  0.900980  0.980785  0.989842\n",
       "23119_irnt  0.832710  0.777364  0.862892  0.898101  0.983032  0.982370\n",
       "23104_irnt  0.825578  0.799314  0.894048  0.903790  0.991330  0.979252\n",
       "2139_irnt   0.935974  0.763283  0.866459  0.888004  0.979229  0.978693"
      ]
     },
     "execution_count": 7,
     "metadata": {},
     "output_type": "execute_result"
    }
   ],
   "source": [
    "def calculate_per_bp_var(regression_result_list_dict,suffix_list,mode='default'):\n",
    "    var_list=[]\n",
    "    for idx,value in enumerate(suffix_list):\n",
    "        h2_df=pd.DataFrame([[phenotype]+((regression_result_list[idx]['h2']/regression_result_list[idx]['h2'].sum())/regression_result_list[idx]['category'].apply(category_to_format,args=('bp_range',))).tolist() for phenotype,regression_result_list in regression_result_list_dict.items()])\n",
    "        #h2_df=pd.DataFrame([[phenotype]+((regression_result_list[idx]['h2']/regression_result_list[idx]['h2'].sum())/1).tolist() for phenotype,regression_result_list in regression_result_list_dict.items()])\n",
    "        h2_df=h2_df.set_index(0)\n",
    "\n",
    "        if mode=='default':\n",
    "            values=h2_df.var(axis=1)\n",
    "        elif mode=='mono':\n",
    "            h2_mono=pd.Series(0.0,index=np.arange(h2_df.shape[1]));h2_mono[0]=1/category_to_format(list(regression_result_bp_list_dict.values())[0][idx]['category'].loc[0],'bp_range',)\n",
    "            values=h2_df.var(axis=1)/h2_mono.var()\n",
    "        elif mode=='max_and_poly':\n",
    "            h2_mono=pd.Series(0.0,index=np.arange(h2_df.shape[1]));h2_mono[0]=1/category_to_format(list(regression_result_bp_list_dict.values())[0][idx]['category'].loc[0],'bp_range',)\n",
    "            h2_poly=pd.Series(1.0,index=np.arange(h2_df.shape[1]));h2_poly=h2_poly/list(regression_result_bp_list_dict.values())[0][idx]['category'].apply(category_to_format,args=('bp_range',)).sum()\n",
    "            #var_list.append(1-(h2_df.var(axis=1)-h2_poly.var())/(h2_df.var(axis=1).max()-h2_poly.var()))#-h2_df.mean(axis=1))\n",
    "            values=(h2_df.var(axis=1)-0)/(h2_df.var(axis=1).max()-0)\n",
    "        elif mode=='test':\n",
    "            values=-np.log10(h2_df.var(axis=1))\n",
    "            8.580318\t\n",
    "            values=(values.max()-values)\n",
    "            values=1-values/values.max()\n",
    "            #values=values-values.min()\n",
    "            #values=1-(values-values.min())/(values.max()-values.min())\n",
    "        else:\n",
    "            raise\n",
    "        var_list.append(values)\n",
    "    var_df=pd.DataFrame(var_list,index=suffix_list)\n",
    "    return var_df.T\n",
    "per_bp_var=calculate_per_bp_var(regression_result_bp_list_dict,suffix_bp_list_power,mode='test')\n",
    "per_bp_var.sort_values('bp8',ascending=False).head()"
   ]
  },
  {
   "cell_type": "code",
   "execution_count": 8,
   "metadata": {},
   "outputs": [],
   "source": [
    "def regression_result_groupchr(regression_result):\n",
    "    regression_result_temp=regression_result.copy()\n",
    "    regression_result_temp['h2_ratio']=regression_result_temp['h2']/regression_result_temp['h2'].sum()\n",
    "    regression_result_temp['chr']=regression_result_temp['category'].apply(lambda x:category_to_format(x,'chr'))\n",
    "    regression_result_temp_chr=dict([(idx,regression_result_temp.loc[value]) for idx,value in regression_result_temp.groupby('chr').groups.items()])    \n",
    "    return regression_result_temp_chr"
   ]
  },
  {
   "cell_type": "code",
   "execution_count": 9,
   "metadata": {},
   "outputs": [],
   "source": [
    "def absorb_negative(array):\n",
    "    array=np.array(array)\n",
    "    for i in range(len(array)):\n",
    "        if array[i]<0:\n",
    "            if i<len(array)-1:\n",
    "                array[i+1]=array[i+1]+array[i]\n",
    "                array[i]=0\n",
    "            else:\n",
    "                array[i]=0\n",
    "    return array"
   ]
  },
  {
   "cell_type": "markdown",
   "metadata": {
    "toc-hr-collapsed": true
   },
   "source": [
    "# For bokeh"
   ]
  },
  {
   "cell_type": "code",
   "execution_count": 10,
   "metadata": {},
   "outputs": [],
   "source": [
    "def heatmap_to_bokehdata(df):\n",
    "    if df.columns.duplicated().sum()>0:\n",
    "        df=df.iloc[:,~df.columns.duplicated()]\n",
    "        print(\"duplicated column deleted\")\n",
    "    if df.index.duplicated().sum()>0:\n",
    "        df=df.iloc[~df.index.duplicated(),:]\n",
    "        print(\"duplicated index deleted\")\n",
    "    \n",
    "    df_bokeh=pd.DataFrame(np.array([[(code,idx,round(value,3) if type(value)==float else value) for code,value in row.iteritems()] for idx,row in df.iterrows()]).reshape(-1,3),columns=['x_data','y_data','value'])\n",
    "    if np.isreal(df.iloc[1,1]):\n",
    "        df_bokeh['value']=df_bokeh['value'].astype(float)\n",
    "\n",
    "    return df_bokeh\n",
    "\n",
    "def norm_color(array,cmap,tohex=True):\n",
    "    array=np.array(array)\n",
    "    #print(array)\n",
    "    array=(array-array.mean())/array.std()\n",
    "    array=[plt.cm.viridis(value) for value in array]\n",
    "    #array=np.vectorize(lambda x: plt.cm.viridis(x))(array)    \n",
    "    if tohex:\n",
    "        array=[\"#%02x%02x%02x\"%(int(256*color[0]),int(256*color[1]),int(256*color[2])) for color in array]\n",
    "    return array\n",
    "\n",
    "#heatmap_to_bokehdata(h2_bp8_df.T.corr())\n",
    "#anova_bokeh['color']=(anova_bokeh['value']-anova_bokeh['value'].mean())/anova_bokeh['value'].std()\n",
    "\n",
    "#anova_bokeh['color']=anova_bokeh['color'].map(lambda x: np.array(plt.cm.viridis(x)))\n",
    "#anova_bokeh['color']=anova_bokeh['color'].map(lambda color: \"#%02x%02x%02x\"%(int(256*color[1]),int(256*color[0]),int(256*color[2])))"
   ]
  },
  {
   "cell_type": "code",
   "execution_count": 11,
   "metadata": {},
   "outputs": [],
   "source": [
    "def bokeh_to_html(p,path):\n",
    "    script, div = components(p)\n",
    "    with open(path+'_div','w') as f:\n",
    "        f.write(div)\n",
    "    with open(path+'_script','w') as f:\n",
    "        f.write(script)  "
   ]
  },
  {
   "cell_type": "markdown",
   "metadata": {},
   "source": [
    "## Template\n",
    "```\n",
    "from bokeh.io import output_file, show\n",
    "from bokeh.embed import json_item\n",
    "from bokeh.plotting import figure\n",
    "\n",
    "from bokeh.transform import cumsum\n",
    "from bokeh.models import Plot, Range1d, Circle, MultiLine\n",
    "from bokeh.models import TapTool, PanTool, WheelZoomTool,WheelPanTool, HoverTool, BoxZoomTool, ResetTool,LassoSelectTool, UndoTool, RedoTool,SaveTool,ZoomOutTool\n",
    "\n",
    "p = figure(plot_height=700, title=\"Landscape of Heritability\",\n",
    "    x_range=(-1.0, 1.0),y_range=(-1.0, 1.0),tools=\"\")\n",
    "\n",
    "p.~~~\n",
    "\n",
    "hover_tool = HoverTool(tooltips=\"@category <br> @value2 (@value1 %)\")\n",
    "p.add_tools(hover_tool,WheelPanTool(), TapTool(),WheelZoomTool(),PanTool(),LassoSelectTool(),BoxZoomTool(),ZoomOutTool(), ResetTool(),SaveTool())\n",
    "\n",
    "p.title.text = \"Correlation Network\"\n",
    "\n",
    "p.axis.visible=False\n",
    "p.xaxis.major_label_orientation = \"vertical\"\n",
    "#p.xaxis.major_label_orientation='vertical'\n",
    "\n",
    "p.xgrid.visible = False\n",
    "p.xgrid.grid_line_color = None\n",
    "p.ygrid.visible = False\n",
    "\n",
    "p.legend.visible=False\n",
    "\n",
    "#p.y_range.start = 0\n",
    "p.y_range.start = 0\n",
    "fig.y_range.flipped = True\n",
    "```"
   ]
  },
  {
   "cell_type": "markdown",
   "metadata": {},
   "source": [
    "# Configuration"
   ]
  },
  {
   "cell_type": "code",
   "execution_count": 12,
   "metadata": {},
   "outputs": [],
   "source": [
    "web_path='web/partitioned_heritability_website/'\n",
    "\n",
    "web_data_path='web/partitioned_heritability_website/plot_data/'\n",
    "web_test_path=web_data_path+'test.html'\n",
    "\n",
    "web_network_path=web_data_path+'network'\n",
    "web_poly_h2_all_path=web_data_path+'poly_h2_all'\n",
    "web_poly_h2_cont_path=web_data_path+'poly_h2_cont'\n",
    "web_poly_h2_bin_path=web_data_path+'poly_h2_bin'\n",
    "web_anova_total_path=web_data_path+'anova_total'\n",
    "web_byregion_path=web_data_path+'byregion'\n",
    "\n",
    "web_phenotype_corr_rank_path=web_data_path+'phenotype_corr_rank_{}'\n",
    "web_phenotype_anova_phenotype_path=web_data_path+'phenotype_anova_phenoype_{}'\n",
    "#web_phenotype_anova_phenotype_path=web_path+'anova_phenoype_{}.json'\n",
    "web_phenotype_par_pie_path=web_data_path+'phenotype_par_pie_{}'"
   ]
  },
  {
   "cell_type": "markdown",
   "metadata": {},
   "source": [
    "# Network"
   ]
  },
  {
   "cell_type": "code",
   "execution_count": 13,
   "metadata": {},
   "outputs": [],
   "source": [
    "h2_bp8_df=pd.DataFrame([[phenotype]+(regression_result_list[-1]['h2']/regression_result_list[-1]['h2'].sum()).tolist() for phenotype,regression_result_list in regression_result_bp_list_dict.items()])\n",
    "h2_bp8_df=h2_bp8_df.set_index(0)"
   ]
  },
  {
   "cell_type": "code",
   "execution_count": 14,
   "metadata": {},
   "outputs": [],
   "source": [
    "h2_bp8_df_temp=h2_bp8_df.copy()\n",
    "edges=h2_bp8_df_temp.T.corr().mask(np.tril(np.ones(h2_bp8_df_temp.T.corr().shape)).astype(np.bool)).stack()\n",
    "edges=pd.DataFrame([[edge[0][0],edge[0][1],edge[1]] for edge in edges.iteritems()],columns=['source','target','value'])\n",
    "pheno_unique=h2_bp8_df.index.difference(pd.Index(edges[edges['value']>0.95]['target'].unique()))"
   ]
  },
  {
   "cell_type": "code",
   "execution_count": 15,
   "metadata": {},
   "outputs": [
    {
     "data": {
      "text/plain": [
       "(481, (497, 358))"
      ]
     },
     "execution_count": 15,
     "metadata": {},
     "output_type": "execute_result"
    }
   ],
   "source": [
    "len(pheno_unique),h2_bp8_df.shape"
   ]
  },
  {
   "cell_type": "code",
   "execution_count": 16,
   "metadata": {},
   "outputs": [],
   "source": [
    "h2_bp8_df_temp=h2_bp8_df.copy().loc[pheno_unique]\n",
    "h2_bp8_df_temp=h2_bp8_df_temp.loc[~h2_bp8_df_temp.index.duplicated()]"
   ]
  },
  {
   "cell_type": "code",
   "execution_count": 17,
   "metadata": {},
   "outputs": [],
   "source": [
    "edges=h2_bp8_df_temp.T.corr().mask(np.tril(np.ones(h2_bp8_df_temp.T.corr().shape)).astype(np.bool)).stack()\n",
    "edges=pd.DataFrame([[edge[0][0],edge[0][1],edge[1]] for edge in edges.iteritems()],columns=['source','target','value'])"
   ]
  },
  {
   "cell_type": "code",
   "execution_count": 18,
   "metadata": {},
   "outputs": [
    {
     "data": {
      "text/plain": [
       "(115440, 3)"
      ]
     },
     "execution_count": 18,
     "metadata": {},
     "output_type": "execute_result"
    }
   ],
   "source": [
    "edges.shape"
   ]
  },
  {
   "cell_type": "code",
   "execution_count": 19,
   "metadata": {},
   "outputs": [],
   "source": [
    "#edges_filtered=edges.loc[(edges['value'] <0.8) & (edges['value'] >0.5)]# & (edges['source'] != edges['target'])]\\\n",
    "edges_filtered=edges.loc[(edges['value'] >0.5)]# & (edges['source'] != edges['target'])]"
   ]
  },
  {
   "cell_type": "code",
   "execution_count": 20,
   "metadata": {},
   "outputs": [],
   "source": [
    "groups=[]\n",
    "for idx,row in edges_filtered.iterrows():\n",
    "    try:\n",
    "        group_index=[(row['source'] in groups[i] or row['target'] in groups[i]) for i in range(len(groups))].index(True)\n",
    "        groups[group_index].add(row['source'])\n",
    "        groups[group_index].add(row['target'])\n",
    "    except:\n",
    "        groups.append({row['source'],row['target']})"
   ]
  },
  {
   "cell_type": "code",
   "execution_count": 21,
   "metadata": {},
   "outputs": [],
   "source": [
    "groups=sorted(groups,key=lambda x: len(x),reverse=True)"
   ]
  },
  {
   "cell_type": "code",
   "execution_count": 22,
   "metadata": {},
   "outputs": [
    {
     "name": "stderr",
     "output_type": "stream",
     "text": [
      "/home/ch6845/tools/miniconda3/lib/python3.7/site-packages/ipykernel_launcher.py:1: SettingWithCopyWarning: \n",
      "A value is trying to be set on a copy of a slice from a DataFrame.\n",
      "Try using .loc[row_indexer,col_indexer] = value instead\n",
      "\n",
      "See the caveats in the documentation: http://pandas.pydata.org/pandas-docs/stable/indexing.html#indexing-view-versus-copy\n",
      "  \"\"\"Entry point for launching an IPython kernel.\n"
     ]
    }
   ],
   "source": [
    "edges_filtered['group_id']=[np.argmax([False]+[row['source'] in group for group in groups]) for idx,row in edges_filtered.iterrows()]"
   ]
  },
  {
   "cell_type": "markdown",
   "metadata": {},
   "source": [
    "edges_filtered.source=edges_filtered.source.map(lambda x:description_to_short(code_to_description(x),'abbr_pub_ori'))\n",
    "edges_filtered.target=edges_filtered.target.map(lambda x:description_to_short(code_to_description(x),'abbr_pub_ori'))"
   ]
  },
  {
   "cell_type": "code",
   "execution_count": 23,
   "metadata": {},
   "outputs": [],
   "source": [
    "import networkx as nx"
   ]
  },
  {
   "cell_type": "code",
   "execution_count": 24,
   "metadata": {},
   "outputs": [],
   "source": [
    "edges_filtered_filtered=edges_filtered[edges_filtered['group_id']==1]\n",
    "G=nx.convert_matrix.from_pandas_edgelist(edges_filtered_filtered,edge_attr='value')"
   ]
  },
  {
   "cell_type": "code",
   "execution_count": 25,
   "metadata": {},
   "outputs": [],
   "source": [
    "per_bp_var_temp=per_bp_var.copy()\n",
    "nx.set_node_attributes(G,dict([(node,pd.Series(per_bp_var_temp['bp8'].loc[node]).iloc[0]) for node in list(G.nodes)]),'per_bp_var')"
   ]
  },
  {
   "cell_type": "code",
   "execution_count": 26,
   "metadata": {},
   "outputs": [],
   "source": [
    "nx.set_node_attributes(G,dict([(node,pd.Series(node).iloc[0]) for node in list(G.nodes)]),'phenotype')"
   ]
  },
  {
   "cell_type": "code",
   "execution_count": 27,
   "metadata": {},
   "outputs": [],
   "source": [
    "#G=nx.relabel_nodes(G,lambda x:description_to_short(code_to_description(x),'abbr_pub_ori',2))\n",
    "G=nx.relabel_nodes(G,lambda x:description_to_short(code_to_description(x),'abbr_pub_ori','correlation'))\n",
    "pos = nx.kamada_kawai_layout(G,weight='value')"
   ]
  },
  {
   "cell_type": "code",
   "execution_count": 32,
   "metadata": {},
   "outputs": [],
   "source": [
    "from bokeh.io import show, output_file\n",
    "from bokeh.models import Plot, Range1d, Circle, HoverTool, MultiLine, BoxZoomTool, ResetTool\n",
    "from bokeh.models.graphs import from_networkx,NodesAndLinkedEdges, EdgesAndLinkedNodes\n",
    "#from bokeh.models import Plot, Range1d, MultiLine, Circle, HoverTool, BoxZoomTool, ResetTool\n",
    "\n",
    "from bokeh.plotting import figure\n",
    "\n",
    "for node in G.nodes:\n",
    "    G.nodes[node]['per_bp_var_round']='{:.3f}'.format(G.nodes[node]['per_bp_var'])\n",
    "\n",
    "    \n",
    "graph_renderer = from_networkx(G, nx.kamada_kawai_layout, scale=1, center=(0, 0))\n",
    "\n",
    "color_list=[plt.cm.viridis(G.nodes[node]['per_bp_var']) for node in G.nodes]\n",
    "graph_renderer.node_renderer.data_source.data['colors'] = [\"#%02x%02x%02x\"%(int(256*color[1]),int(256*color[0]),int(256*color[2])) for color in color_list]\n",
    "\n",
    "\n",
    "line_widths=np.array([G.edges[edge]['value'] for edge in G.edges])\n",
    "line_widths=(line_widths-line_widths.min())/(line_widths.max()-line_widths.min())\n",
    "line_widths=(1+7*line_widths).astype(int)\n",
    "\n",
    "graph_renderer.edge_renderer.data_source.data['widths'] = line_widths\n",
    "\n",
    "graph_renderer.node_renderer.glyph = Circle(size=15, fill_color='colors')\n",
    "\n",
    "graph_renderer.edge_renderer.glyph = MultiLine(line_alpha=0.8, line_width='widths',line_color=\"#0000FF\")\n",
    "graph_renderer.edge_renderer.selection_glyph = MultiLine(line_alpha=0.5, line_width='widths',line_color=\"#1ef20f\")\n",
    "graph_renderer.edge_renderer.hover_glyph = MultiLine(line_alpha=0.5, line_width='widths',line_color=\"#1ef20f\")\n",
    "\n",
    "#graph_renderer.selection_policy = NodesAndLinkedEdges()\n",
    "#graph_renderer.inspection_policy = EdgesAndLinkedNodes()\n",
    "\n",
    "p = figure(plot_width=700, plot_height=700,\n",
    "            x_range=Range1d(-1.1, 1.1), y_range=Range1d(-1.1, 1.1),tools=\"\")\n",
    "p.renderers.append(graph_renderer)\n",
    "\n",
    "\n",
    "hover_tool = HoverTool(tooltips=[(\"Code\",\"@phenotype\"),(\"Phenotype\", \"@index\"), (\"Polygenicity\", \"@per_bp_var_round\")])\n",
    "p.add_tools(hover_tool,WheelPanTool(), TapTool(),WheelZoomTool(),PanTool(),LassoSelectTool(),BoxZoomTool(),ZoomOutTool(), ResetTool(),SaveTool())\n",
    "\n",
    "p.axis.visible=False\n",
    "p.legend.visible=False\n",
    "p.xgrid.visible = False\n",
    "p.ygrid.visible = False\n",
    "p.title.text = \"Correlation Network\"\n",
    "\n",
    "output_file(web_test_path)\n",
    "show(p)"
   ]
  },
  {
   "cell_type": "code",
   "execution_count": 33,
   "metadata": {},
   "outputs": [],
   "source": [
    "bokeh_to_html(p,web_network_path)"
   ]
  },
  {
   "cell_type": "markdown",
   "metadata": {},
   "source": [
    "with open(web_network_path,'w') as f:\n",
    "    json.dump(json_item(p),f)"
   ]
  },
  {
   "cell_type": "markdown",
   "metadata": {},
   "source": [
    "# Polygenicity-h2"
   ]
  },
  {
   "cell_type": "code",
   "execution_count": 34,
   "metadata": {},
   "outputs": [],
   "source": [
    "h2_total['description']=h2_total.index.map(code_to_description)"
   ]
  },
  {
   "cell_type": "code",
   "execution_count": 35,
   "metadata": {},
   "outputs": [],
   "source": [
    "var_and_h2=pd.concat([\n",
    "    per_bp_var['bp8'],\n",
    "    h2_total['uni.Total Observed scale h2'],\n",
    "    h2_total['uni.Total Liability scale h2'],\n",
    "    h2_total['uni.Total h2 p'],\n",
    "    h2_total['description']\n",
    "    ],axis=1)"
   ]
  },
  {
   "cell_type": "code",
   "execution_count": 36,
   "metadata": {},
   "outputs": [
    {
     "name": "stdout",
     "output_type": "stream",
     "text": [
      "contiuous\n",
      "binary mode\n"
     ]
    },
    {
     "name": "stderr",
     "output_type": "stream",
     "text": [
      "/home/ch6845/tools/miniconda3/lib/python3.7/site-packages/ipykernel_launcher.py:10: SettingWithCopyWarning: \n",
      "A value is trying to be set on a copy of a slice from a DataFrame.\n",
      "Try using .loc[row_indexer,col_indexer] = value instead\n",
      "\n",
      "See the caveats in the documentation: http://pandas.pydata.org/pandas-docs/stable/indexing.html#indexing-view-versus-copy\n",
      "  # Remove the CWD from sys.path while we load stuff.\n",
      "/home/ch6845/tools/miniconda3/lib/python3.7/site-packages/ipykernel_launcher.py:31: SettingWithCopyWarning: \n",
      "A value is trying to be set on a copy of a slice from a DataFrame.\n",
      "Try using .loc[row_indexer,col_indexer] = value instead\n",
      "\n",
      "See the caveats in the documentation: http://pandas.pydata.org/pandas-docs/stable/indexing.html#indexing-view-versus-copy\n",
      "/home/ch6845/tools/miniconda3/lib/python3.7/site-packages/ipykernel_launcher.py:32: SettingWithCopyWarning: \n",
      "A value is trying to be set on a copy of a slice from a DataFrame.\n",
      "Try using .loc[row_indexer,col_indexer] = value instead\n",
      "\n",
      "See the caveats in the documentation: http://pandas.pydata.org/pandas-docs/stable/indexing.html#indexing-view-versus-copy\n",
      "/home/ch6845/tools/miniconda3/lib/python3.7/site-packages/ipykernel_launcher.py:33: SettingWithCopyWarning: \n",
      "A value is trying to be set on a copy of a slice from a DataFrame.\n",
      "Try using .loc[row_indexer,col_indexer] = value instead\n",
      "\n",
      "See the caveats in the documentation: http://pandas.pydata.org/pandas-docs/stable/indexing.html#indexing-view-versus-copy\n",
      "/home/ch6845/tools/miniconda3/lib/python3.7/site-packages/ipykernel_launcher.py:16: SettingWithCopyWarning: \n",
      "A value is trying to be set on a copy of a slice from a DataFrame.\n",
      "Try using .loc[row_indexer,col_indexer] = value instead\n",
      "\n",
      "See the caveats in the documentation: http://pandas.pydata.org/pandas-docs/stable/indexing.html#indexing-view-versus-copy\n",
      "  app.launch_new_instance()\n"
     ]
    },
    {
     "name": "stdout",
     "output_type": "stream",
     "text": [
      "all mode\n"
     ]
    },
    {
     "data": {
      "text/plain": [
       "\"\\nwith open(web_poly_h2_bin_path,'w') as f:\\n    json.dump(bokeh_var_and_h2(var_and_h2,'binary'),f)\\n    \\nwith open(web_poly_h2_cont_path,'w') as f:\\n    json.dump(bokeh_var_and_h2(var_and_h2,'continuous'),f)\\n    \\nwith open(web_poly_h2_all_path,'w') as f:\\n    json.dump(bokeh_var_and_h2(var_and_h2,'all'),f)\\n\""
      ]
     },
     "execution_count": 36,
     "metadata": {},
     "output_type": "execute_result"
    }
   ],
   "source": [
    "from bokeh.plotting import figure, output_file, show\n",
    "from bokeh.models import Plot, Range1d, Circle, HoverTool, MultiLine, BoxZoomTool, ResetTool\n",
    "def bokeh_var_and_h2(var_and_h2,mode='cont'):\n",
    "    \n",
    "    p = figure(plot_width=700, plot_height=700,tools=\"\")\n",
    "    \n",
    "    if mode=='continuous':\n",
    "        print('contiuous')\n",
    "        var_and_h2_filtered=var_and_h2[var_and_h2['uni.Total Liability scale h2']==var_and_h2['uni.Total Observed scale h2']]\n",
    "        var_and_h2_filtered['x_data']=np.log10(var_and_h2_filtered['uni.Total Observed scale h2'])\n",
    "        p.xaxis.axis_label = \"Heritability (Observed scale)\"\n",
    "        p.title.text = \"Level of Polygenicity - Heritability (continuous traits only)\"\n",
    "    elif mode=='binary':\n",
    "        print('binary mode')\n",
    "        var_and_h2_filtered=var_and_h2[var_and_h2['uni.Total Liability scale h2']!=var_and_h2['uni.Total Observed scale h2']]\n",
    "        var_and_h2_filtered['x_data']=np.log10(var_and_h2_filtered['uni.Total Liability scale h2'])\n",
    "        p.xaxis.axis_label = \"Heritability (Liability scale)\"\n",
    "        p.title.text = \"Level of Polygenicity - Heritability (binary traits only)\"\n",
    "    elif mode=='all':\n",
    "        print('all mode')\n",
    "        var_and_h2_filtered=var_and_h2\n",
    "        var_and_h2_filtered['x_data']=np.log10(var_and_h2_filtered['uni.Total Liability scale h2'])\n",
    "        p.xaxis.axis_label = \"Heritability (Liability scale)\"\n",
    "        p.title.text = \"Level of Polygenicity - Heritability (all traits)\"\n",
    "    else:\n",
    "        raise\n",
    "\n",
    "    #var_and_h2_filtered=var_and_h2.copy()\n",
    "\n",
    "    \n",
    "    var_and_h2_filtered['y_data']=var_and_h2_filtered['bp8']\n",
    "    var_and_h2_filtered['hue_data']=np.log10(var_and_h2_filtered['uni.Total h2 p'])\n",
    "    var_and_h2_filtered['hue_data']=norm_color(var_and_h2_filtered['hue_data'],plt.cm.viridis)\n",
    "    # output to static HTML file\n",
    "\n",
    "    # add a square renderer with a size, color, and alpha\n",
    "    #p.square([1, 2, 3, 4, 5], [6, 7, 2, 4, 5], size=20, color=\"olive\", alpha=0.5)\n",
    "    p.circle(x='x_data',y='y_data',fill_color='hue_data',radius=0.005,source=var_and_h2_filtered)\n",
    "\n",
    "    hover_tool = HoverTool(tooltips=[\n",
    "        (\"phenotype\",\"@description\"),\n",
    "        (\"h2\",\"@x_data\"),\n",
    "        (\"polygenicity\",\"@y_data\")\n",
    "        #(\"index\", \"$index\"),\n",
    "        #(\"(x,y)\", \"(@x, @y)\"),\n",
    "        #('desc', '@desc'),\n",
    "    ])\n",
    "\n",
    "    p.add_tools(hover_tool,WheelPanTool(), TapTool(),WheelZoomTool(),PanTool(),LassoSelectTool(),BoxZoomTool(),ZoomOutTool(), ResetTool(),SaveTool())\n",
    "\n",
    "    #p.axis.visible=False\n",
    "    #p.legend.visible=False\n",
    "    #p.xgrid.visible = False\n",
    "    #p.ygrid.visible = False\n",
    "    \n",
    "    p.yaxis.axis_label = \"Level of Polygenicity\"\n",
    "\n",
    "\n",
    "    output_file(web_test_path)\n",
    "    show(p)\n",
    "    return p\n",
    "\n",
    "\n",
    "bokeh_to_html(bokeh_var_and_h2(var_and_h2,mode='continuous'),web_poly_h2_cont_path)\n",
    "bokeh_to_html(bokeh_var_and_h2(var_and_h2,mode='binary'),web_poly_h2_bin_path)\n",
    "bokeh_to_html(bokeh_var_and_h2(var_and_h2,mode='all'),web_poly_h2_all_path)\n",
    "\n",
    "\"\"\"\n",
    "with open(web_poly_h2_bin_path,'w') as f:\n",
    "    json.dump(bokeh_var_and_h2(var_and_h2,'binary'),f)\n",
    "    \n",
    "with open(web_poly_h2_cont_path,'w') as f:\n",
    "    json.dump(bokeh_var_and_h2(var_and_h2,'continuous'),f)\n",
    "    \n",
    "with open(web_poly_h2_all_path,'w') as f:\n",
    "    json.dump(bokeh_var_and_h2(var_and_h2,'all'),f)\n",
    "\"\"\""
   ]
  },
  {
   "cell_type": "markdown",
   "metadata": {},
   "source": [
    "# ANOVA total"
   ]
  },
  {
   "cell_type": "code",
   "execution_count": 37,
   "metadata": {},
   "outputs": [],
   "source": [
    "def anova_regression_result_times(regression_result,times):\n",
    "    h2_upscale=pd.DataFrame([(regression_result['h2']/regression_result['h2'].sum())/regression_result['category'].apply(category_to_format,args=('bp_range',)).values,regression_result['category'].apply(category_to_format,args=(times,))]).T    \n",
    "    h2_upscale_grouped=(h2_upscale.groupby('category')['h2'].apply(list))\n",
    "    f_statistic,f_statistic_pval=st.f_oneway(*h2_upscale_grouped.values)    \n",
    "    #print(h2_upscale_grouped)\n",
    "    return f_statistic,f_statistic_pval"
   ]
  },
  {
   "cell_type": "code",
   "execution_count": 38,
   "metadata": {},
   "outputs": [],
   "source": [
    "anova_list_list_times=[[phenotype]+list(map(lambda x: anova_regression_result_times(regression_result_list[-1],x),list(range(len(suffix_bp_list_power)-1,0,-1)))) for phenotype,regression_result_list in regression_result_bp_list_dict.items()]"
   ]
  },
  {
   "cell_type": "code",
   "execution_count": 39,
   "metadata": {},
   "outputs": [
    {
     "data": {
      "text/html": [
       "<div>\n",
       "<style scoped>\n",
       "    .dataframe tbody tr th:only-of-type {\n",
       "        vertical-align: middle;\n",
       "    }\n",
       "\n",
       "    .dataframe tbody tr th {\n",
       "        vertical-align: top;\n",
       "    }\n",
       "\n",
       "    .dataframe thead th {\n",
       "        text-align: right;\n",
       "    }\n",
       "</style>\n",
       "<table border=\"1\" class=\"dataframe\">\n",
       "  <thead>\n",
       "    <tr style=\"text-align: right;\">\n",
       "      <th></th>\n",
       "      <th>bp300</th>\n",
       "      <th>bp128</th>\n",
       "      <th>bp64</th>\n",
       "      <th>bp32</th>\n",
       "      <th>bp16</th>\n",
       "    </tr>\n",
       "    <tr>\n",
       "      <th>0</th>\n",
       "      <th></th>\n",
       "      <th></th>\n",
       "      <th></th>\n",
       "      <th></th>\n",
       "      <th></th>\n",
       "    </tr>\n",
       "  </thead>\n",
       "  <tbody>\n",
       "    <tr>\n",
       "      <th>50_irnt</th>\n",
       "      <td>0.011109</td>\n",
       "      <td>0.003130</td>\n",
       "      <td>0.000012</td>\n",
       "      <td>0.000023</td>\n",
       "      <td>1.009341e-03</td>\n",
       "    </tr>\n",
       "    <tr>\n",
       "      <th>20153_irnt</th>\n",
       "      <td>0.013600</td>\n",
       "      <td>0.008790</td>\n",
       "      <td>0.000252</td>\n",
       "      <td>0.000203</td>\n",
       "      <td>8.324001e-04</td>\n",
       "    </tr>\n",
       "    <tr>\n",
       "      <th>5097_irnt</th>\n",
       "      <td>0.000013</td>\n",
       "      <td>0.000660</td>\n",
       "      <td>0.037244</td>\n",
       "      <td>0.000137</td>\n",
       "      <td>1.898413e-33</td>\n",
       "    </tr>\n",
       "    <tr>\n",
       "      <th>5098_irnt</th>\n",
       "      <td>0.000051</td>\n",
       "      <td>0.001458</td>\n",
       "      <td>0.038098</td>\n",
       "      <td>0.000048</td>\n",
       "      <td>7.970358e-29</td>\n",
       "    </tr>\n",
       "    <tr>\n",
       "      <th>30100_irnt</th>\n",
       "      <td>0.098872</td>\n",
       "      <td>0.093447</td>\n",
       "      <td>0.110663</td>\n",
       "      <td>0.292819</td>\n",
       "      <td>1.182984e-04</td>\n",
       "    </tr>\n",
       "  </tbody>\n",
       "</table>\n",
       "</div>"
      ],
      "text/plain": [
       "               bp300     bp128      bp64      bp32          bp16\n",
       "0                                                               \n",
       "50_irnt     0.011109  0.003130  0.000012  0.000023  1.009341e-03\n",
       "20153_irnt  0.013600  0.008790  0.000252  0.000203  8.324001e-04\n",
       "5097_irnt   0.000013  0.000660  0.037244  0.000137  1.898413e-33\n",
       "5098_irnt   0.000051  0.001458  0.038098  0.000048  7.970358e-29\n",
       "30100_irnt  0.098872  0.093447  0.110663  0.292819  1.182984e-04"
      ]
     },
     "execution_count": 39,
     "metadata": {},
     "output_type": "execute_result"
    }
   ],
   "source": [
    "anova_df_f_times=pd.DataFrame([[anova_list[0]]+[anova[0] for anova in anova_list[1:]] for idx,anova_list in enumerate(anova_list_list_times)])\n",
    "anova_df_f_times=anova_df_f_times.set_index(0)\n",
    "anova_df_f_times.columns=suffix_bp_list_power[:-1]\n",
    "anova_df_f_times.head()\n",
    "\n",
    "anova_df_pval_times=pd.DataFrame([[anova_list[0]]+[anova[1] for anova in anova_list[1:]] for idx,anova_list in enumerate(anova_list_list_times)])\n",
    "anova_df_pval_times=anova_df_pval_times.set_index(0)\n",
    "anova_df_pval_times.columns=suffix_bp_list_power[:-1]\n",
    "anova_df_pval_times.head()"
   ]
  },
  {
   "cell_type": "code",
   "execution_count": 40,
   "metadata": {},
   "outputs": [],
   "source": [
    "anova_plot_data=anova_df_pval_times.copy()\n",
    "anova_plot_data.columns=anova_plot_data.columns.str.replace('bp','')+'Mb'\n",
    "anova_plot_data.columns=anova_plot_data.columns.str.replace('300Mb','Chr')\n",
    "anova_plot_data=-np.log10(anova_plot_data.loc[per_bp_var['bp8'].sort_values(ascending=False).index].T)#,cmap=plt.cm.rainbow)\n",
    "anova_plot_data.columns=anova_plot_data.columns.map(code_to_description).map(lambda x: description_to_short(x,'abbr_pub_ori'))\n",
    "\n",
    "anova_plot_data=anova_plot_data.iloc[:,~anova_plot_data.columns.duplicated()]"
   ]
  },
  {
   "cell_type": "code",
   "execution_count": 41,
   "metadata": {},
   "outputs": [],
   "source": [
    "anova_plot_data=anova_plot_data.iloc[:,:].T"
   ]
  },
  {
   "cell_type": "code",
   "execution_count": 42,
   "metadata": {},
   "outputs": [],
   "source": [
    "anova_bokeh=heatmap_to_bokehdata(anova_plot_data)"
   ]
  },
  {
   "cell_type": "code",
   "execution_count": 43,
   "metadata": {},
   "outputs": [],
   "source": [
    "anova_bokeh['color']=norm_color(anova_bokeh['value'],plt.cm.viridis)"
   ]
  },
  {
   "cell_type": "code",
   "execution_count": 44,
   "metadata": {},
   "outputs": [],
   "source": [
    "#anova_bokeh"
   ]
  },
  {
   "cell_type": "code",
   "execution_count": 47,
   "metadata": {},
   "outputs": [
    {
     "data": {
      "text/plain": [
       "\"\\nwith open(web_anova_total_path,'w') as f:\\n    json.dump(json_item(p),f)\\n\""
      ]
     },
     "execution_count": 47,
     "metadata": {},
     "output_type": "execute_result"
    }
   ],
   "source": [
    "from bokeh.layouts import row\n",
    "from bokeh.plotting import figure, show, output_file\n",
    "\n",
    "factors_col=anova_bokeh['x_data'].unique()\n",
    "factors_row=anova_bokeh['y_data'].unique()\n",
    "\n",
    "x=np.array([[row]*len(factors_col) for row in factors_row]).reshape(-1)\n",
    "y=np.array([[col]*len(factors_row) for col in factors_col]).reshape(-1)\n",
    "\n",
    "p = figure(x_range=factors_col, y_range=factors_row,\n",
    "            x_axis_location='above',y_axis_location='right',\n",
    "            plot_width=1000,plot_height=10000,\n",
    "            )\n",
    "\n",
    "p.rect(x='x_data',y='y_data',color='color',\n",
    "        source=anova_bokeh,\n",
    "        width=1,height=1)\n",
    "\n",
    "\n",
    "hover_tool= HoverTool(tooltips=[\n",
    "    #(\"\",@)\n",
    "    #(\"index\", \"$index\"),\n",
    "    (\"Scale\", \"@x_data\"),\n",
    "    (\"Phenotype\", \"@y_data\"),\n",
    "    (\"-log10(p-value)\",\"@value\"),\n",
    "    #('desc', '@desc'),\n",
    "])\n",
    "\n",
    "p.add_tools(hover_tool,WheelPanTool(), TapTool(),WheelZoomTool(),PanTool(),LassoSelectTool(),BoxZoomTool(),ZoomOutTool(), ResetTool(),SaveTool())\n",
    "\n",
    "\n",
    "p.title.text = \"ANOVA result of phenotypes\"\n",
    "\n",
    "output_file(web_test_path)\n",
    "\n",
    "show(p)\n",
    "bokeh_to_html(p,web_anova_total_path)\n",
    "\"\"\"\n",
    "with open(web_anova_total_path,'w') as f:\n",
    "    json.dump(json_item(p),f)\n",
    "\"\"\""
   ]
  },
  {
   "cell_type": "markdown",
   "metadata": {
    "toc-hr-collapsed": false
   },
   "source": [
    "# By region"
   ]
  },
  {
   "cell_type": "code",
   "execution_count": 48,
   "metadata": {},
   "outputs": [],
   "source": [
    "h2_bp8_df_temp=h2_bp8_df.copy()\n",
    "edges=h2_bp8_df_temp.T.corr().mask(np.tril(np.ones(h2_bp8_df_temp.T.corr().shape)).astype(np.bool)).stack()\n",
    "edges=pd.DataFrame([[edge[0][0],edge[0][1],edge[1]] for edge in edges.iteritems()],columns=['source','target','value'])"
   ]
  },
  {
   "cell_type": "code",
   "execution_count": 49,
   "metadata": {},
   "outputs": [],
   "source": [
    "edges_filtered=edges.loc[(edges['value'] >0.8)]# & (edges['source'] != edges['target'])]"
   ]
  },
  {
   "cell_type": "code",
   "execution_count": 50,
   "metadata": {},
   "outputs": [],
   "source": [
    "pheno_unique=h2_bp8_df.index.difference(pd.Index(edges_filtered['target'].unique()))"
   ]
  },
  {
   "cell_type": "markdown",
   "metadata": {},
   "source": [
    "## sort by value per each loci"
   ]
  },
  {
   "cell_type": "code",
   "execution_count": 51,
   "metadata": {},
   "outputs": [],
   "source": [
    "h2_bp8_df_unique=h2_bp8_df.loc[pheno_unique]"
   ]
  },
  {
   "cell_type": "code",
   "execution_count": 52,
   "metadata": {},
   "outputs": [],
   "source": [
    "h2_bp8_df_unique.columns=regression_result_bp_list_dict['23115_irnt'][-1]['category'].apply(category_to_format,args=('padding',))"
   ]
  },
  {
   "cell_type": "code",
   "execution_count": 53,
   "metadata": {},
   "outputs": [],
   "source": [
    "regional_cutoff=h2_bp8_df_unique.applymap(lambda x : x if x>5/(h2_bp8_df_unique.shape[1]) else np.nan)\n",
    "regional_cutoff_sum=regional_cutoff.sum()"
   ]
  },
  {
   "cell_type": "code",
   "execution_count": 54,
   "metadata": {},
   "outputs": [],
   "source": [
    "regional_cutoff_bool=h2_bp8_df_unique.applymap(lambda x : True if x>5/(h2_bp8_df_unique.shape[1]) else False)\n",
    "regional_cutoff_bool_sum=regional_cutoff_bool.sum()"
   ]
  },
  {
   "cell_type": "code",
   "execution_count": 55,
   "metadata": {},
   "outputs": [],
   "source": [
    "top_loci_index=regional_cutoff_bool_sum.sort_values(ascending=False)[:].index\n",
    "top_loci_index=sorted(top_loci_index)"
   ]
  },
  {
   "cell_type": "markdown",
   "metadata": {},
   "source": [
    "## Top"
   ]
  },
  {
   "cell_type": "code",
   "execution_count": 56,
   "metadata": {},
   "outputs": [],
   "source": [
    "loci_sorted_value=pd.DataFrame([row.sort_values(ascending=False).values for idx,row in regional_cutoff.T.iterrows()],index=regional_cutoff.T.index).T\n",
    "loci_sorted_value_top=loci_sorted_value[top_loci_index].iloc[:15]"
   ]
  },
  {
   "cell_type": "code",
   "execution_count": 57,
   "metadata": {},
   "outputs": [],
   "source": [
    "loci_sorted_value_top=loci_sorted_value_top.applymap(lambda x: x*loci_sorted_value_top.shape[1])"
   ]
  },
  {
   "cell_type": "code",
   "execution_count": 58,
   "metadata": {},
   "outputs": [],
   "source": [
    "loci_values_max,loci_values_min=loci_sorted_value_top.max().max(),loci_sorted_value_top.min().min()"
   ]
  },
  {
   "cell_type": "code",
   "execution_count": 59,
   "metadata": {},
   "outputs": [],
   "source": [
    "loci_sorted_desc=pd.DataFrame([row.sort_values(ascending=False).index for idx,row in regional_cutoff.T.iterrows()],index=regional_cutoff.T.index).T\n",
    "loci_sorted_desc_top=loci_sorted_desc[top_loci_index].iloc[:30]"
   ]
  },
  {
   "cell_type": "code",
   "execution_count": 82,
   "metadata": {},
   "outputs": [],
   "source": [
    "data=heatmap_to_bokehdata(loci_sorted_value_top.T.iloc[::-1,:]).merge(heatmap_to_bokehdata(loci_sorted_desc_top.T.iloc[::-1,:]),on=['x_data','y_data'])\n",
    "data=data.rename({'value_x': 'value', 'value_y': 'code'}, axis=1)"
   ]
  },
  {
   "cell_type": "code",
   "execution_count": 83,
   "metadata": {},
   "outputs": [],
   "source": [
    "data['color']=(data['value']-data['value'].mean())/data['value'].std()\n",
    "\n",
    "data['color']=data['color'].map(lambda x: np.array(plt.cm.viridis(x)))\n",
    "data['color']=data['color'].map(lambda color: \"#%02x%02x%02x\"%(int(256*color[1]),int(256*color[0]),int(256*color[2])))\n",
    "\n",
    "data['description']=data['code'].map(code_to_description)\n",
    "\n",
    "#data['x_data']=data['x_data'].map(lambda x: category_to_format(x,'chr_bp'))\n",
    "#data['y_data']='Rank'+(1+data['y_data'].astype(int)).astype(str)\n",
    "data['y_data']=data['y_data'].map(lambda x: category_to_format(x,'chr_bp'))\n",
    "data['x_data']='Rank'+(1+data['x_data'].astype(int)).astype(str)"
   ]
  },
  {
   "cell_type": "code",
   "execution_count": 84,
   "metadata": {},
   "outputs": [],
   "source": [
    "data['description']=data['description'][~data['value'].isnull()]"
   ]
  },
  {
   "cell_type": "code",
   "execution_count": 85,
   "metadata": {},
   "outputs": [
    {
     "data": {
      "text/html": [
       "<div>\n",
       "<style scoped>\n",
       "    .dataframe tbody tr th:only-of-type {\n",
       "        vertical-align: middle;\n",
       "    }\n",
       "\n",
       "    .dataframe tbody tr th {\n",
       "        vertical-align: top;\n",
       "    }\n",
       "\n",
       "    .dataframe thead th {\n",
       "        text-align: right;\n",
       "    }\n",
       "</style>\n",
       "<table border=\"1\" class=\"dataframe\">\n",
       "  <thead>\n",
       "    <tr style=\"text-align: right;\">\n",
       "      <th></th>\n",
       "      <th>x_data</th>\n",
       "      <th>y_data</th>\n",
       "      <th>value</th>\n",
       "      <th>code</th>\n",
       "      <th>color</th>\n",
       "      <th>description</th>\n",
       "    </tr>\n",
       "  </thead>\n",
       "  <tbody>\n",
       "    <tr>\n",
       "      <th>0</th>\n",
       "      <td>Rank1</td>\n",
       "      <td>chr22: 48~51Mb</td>\n",
       "      <td>14.425</td>\n",
       "      <td>3466</td>\n",
       "      <td>#e7fe24</td>\n",
       "      <td>Time from waking to first cigarette</td>\n",
       "    </tr>\n",
       "    <tr>\n",
       "      <th>1</th>\n",
       "      <td>Rank2</td>\n",
       "      <td>chr22: 48~51Mb</td>\n",
       "      <td>13.014</td>\n",
       "      <td>4283</td>\n",
       "      <td>#e7fe24</td>\n",
       "      <td>Number of rounds of numeric memory test performed</td>\n",
       "    </tr>\n",
       "    <tr>\n",
       "      <th>2</th>\n",
       "      <td>Rank3</td>\n",
       "      <td>chr22: 48~51Mb</td>\n",
       "      <td>12.917</td>\n",
       "      <td>5161_irnt</td>\n",
       "      <td>#e7fe24</td>\n",
       "      <td>6mm regularity index (right)</td>\n",
       "    </tr>\n",
       "    <tr>\n",
       "      <th>3</th>\n",
       "      <td>Rank4</td>\n",
       "      <td>chr22: 48~51Mb</td>\n",
       "      <td>11.630</td>\n",
       "      <td>20548_7</td>\n",
       "      <td>#c55169</td>\n",
       "      <td>Manifestations of mania or irritability: I was...</td>\n",
       "    </tr>\n",
       "    <tr>\n",
       "      <th>4</th>\n",
       "      <td>Rank5</td>\n",
       "      <td>chr22: 48~51Mb</td>\n",
       "      <td>9.378</td>\n",
       "      <td>20535</td>\n",
       "      <td>#473f88</td>\n",
       "      <td>Waking too early</td>\n",
       "    </tr>\n",
       "  </tbody>\n",
       "</table>\n",
       "</div>"
      ],
      "text/plain": [
       "  x_data          y_data   value       code    color  \\\n",
       "0  Rank1  chr22: 48~51Mb  14.425       3466  #e7fe24   \n",
       "1  Rank2  chr22: 48~51Mb  13.014       4283  #e7fe24   \n",
       "2  Rank3  chr22: 48~51Mb  12.917  5161_irnt  #e7fe24   \n",
       "3  Rank4  chr22: 48~51Mb  11.630    20548_7  #c55169   \n",
       "4  Rank5  chr22: 48~51Mb   9.378      20535  #473f88   \n",
       "\n",
       "                                         description  \n",
       "0                Time from waking to first cigarette  \n",
       "1  Number of rounds of numeric memory test performed  \n",
       "2                       6mm regularity index (right)  \n",
       "3  Manifestations of mania or irritability: I was...  \n",
       "4                                   Waking too early  "
      ]
     },
     "execution_count": 85,
     "metadata": {},
     "output_type": "execute_result"
    }
   ],
   "source": [
    "data.head()"
   ]
  },
  {
   "cell_type": "code",
   "execution_count": 87,
   "metadata": {},
   "outputs": [],
   "source": [
    "from bokeh.layouts import row\n",
    "from bokeh.plotting import figure, show, output_file\n",
    "\n",
    "factors_col=data['x_data'].unique()\n",
    "factors_row=data['y_data'].unique()\n",
    "\n",
    "x=np.array([[row]*len(factors_col) for row in factors_row]).reshape(-1)\n",
    "y=np.array([[col]*len(factors_row) for col in factors_col]).reshape(-1)\n",
    "\n",
    "#tools=\"pan,wheel_zoom,box_zoom,reset\")\n",
    "p = figure(x_range=factors_col, y_range=factors_row,\n",
    "            plot_width=500,plot_height=4000,\n",
    "            toolbar_location=\"left\",tools=\"\",x_axis_location=\"above\")\n",
    "\n",
    "#hm.add_tools(BoxZoomTool())\n",
    "\n",
    "p.rect(x='x_data',y='y_data',color='color',\n",
    "        line_color='#ffffff',\n",
    "        source=data,\n",
    "        width=1,height=1)\n",
    "#hm.rect(x,y,width=1,height=1)\n",
    "\n",
    "\n",
    "hover_tool = HoverTool(tooltips=[\n",
    "    #(\"\",@)\n",
    "\n",
    "    #(\"index\", \"$index\"),\n",
    "    (\"Locus\",\"@x_data\"),\n",
    "    (\"Rank\",\"@y_data\"),\n",
    "    \n",
    "    (\"Code\",\"@code\"),\n",
    "    (\"Phenotype\",\"@description\"),\n",
    "    (\"relative\",\"@value{1.11}\"),\n",
    "    \n",
    "    #('desc', '@desc'),\n",
    "])\n",
    "\n",
    "p.add_tools(hover_tool,WheelPanTool(), TapTool(),WheelZoomTool(),PanTool(),LassoSelectTool(),BoxZoomTool(),ZoomOutTool(), ResetTool(),SaveTool())\n",
    "\n",
    "p.title.text = \"Top 15 Highly Associatied Phenotypes for Each Loci.\"\n",
    "p.xaxis.major_label_orientation = \"vertical\"\n",
    "\n",
    "#hm..start = 0\n",
    "#@y{1.11}\"\n",
    "output_file(web_test_path)\n",
    "#toolbar_location=None,\n",
    "#        tools=\"hover\", tooltips=\"@category: @value\", x_range=(-1, 1.0))\n",
    "#show(row(hm, dot, sizing_mode=\"scale_width\"))  # open a browser\n",
    "show(p)\n",
    "\n",
    "bokeh_to_html(p,web_byregion_path)"
   ]
  },
  {
   "cell_type": "code",
   "execution_count": 907,
   "metadata": {},
   "outputs": [],
   "source": [
    "\"\"\"\n",
    "with open(web_byregion_path,'w') as f:\n",
    "    json.dump(json_item(p),f)\n",
    "\"\"\""
   ]
  },
  {
   "cell_type": "markdown",
   "metadata": {
    "toc-hr-collapsed": false
   },
   "source": [
    "# by Phenotype"
   ]
  },
  {
   "cell_type": "markdown",
   "metadata": {},
   "source": [
    "## Pie plot"
   ]
  },
  {
   "cell_type": "code",
   "execution_count": 88,
   "metadata": {},
   "outputs": [],
   "source": [
    "from bokeh.io import output_file, show\n",
    "from bokeh.plotting import figure\n",
    "from bokeh.transform import cumsum\n",
    "from bokeh.models import Plot, Range1d, Circle, MultiLine\n",
    "from bokeh.models import TapTool, PanTool, WheelZoomTool,WheelPanTool, HoverTool, BoxZoomTool, ResetTool,LassoSelectTool, UndoTool, RedoTool,SaveTool,ZoomOutTool"
   ]
  },
  {
   "cell_type": "code",
   "execution_count": 89,
   "metadata": {},
   "outputs": [
    {
     "name": "stdout",
     "output_type": "stream",
     "text": [
      "0\n"
     ]
    },
    {
     "name": "stderr",
     "output_type": "stream",
     "text": [
      "/home/ch6845/tools/miniconda3/lib/python3.7/site-packages/ipykernel_launcher.py:15: SettingWithCopyWarning: \n",
      "A value is trying to be set on a copy of a slice from a DataFrame\n",
      "\n",
      "See the caveats in the documentation: http://pandas.pydata.org/pandas-docs/stable/indexing.html#indexing-view-versus-copy\n",
      "  from ipykernel import kernelapp as app\n"
     ]
    },
    {
     "name": "stdout",
     "output_type": "stream",
     "text": [
      "1\n",
      "2\n",
      "3\n",
      "4\n",
      "5\n"
     ]
    }
   ],
   "source": [
    "def get_color_series_list(regression_result_list):\n",
    "    #regression_result_list=regression_result_list.copy()[::-1] if reverse_order else regression_result_list.copy()\n",
    "    regression_result_list=regression_result_list.copy()\n",
    "    \n",
    "    color_series_list=[]\n",
    "    for idx,regression_result in enumerate(regression_result_list):\n",
    "        print(idx)\n",
    "        regression_result=regression_result.copy()\n",
    "        \n",
    "        regression_result['color']='#ff#ff#ff'\n",
    "        for chrN in range(1,22+1):\n",
    "            regression_result_chr=regression_result.loc[regression_result['category'].map(lambda x: category_to_format(x,'chr'))==chrN]\n",
    "            color_list=[np.array(plt.cm.get_cmap('hsv')((chrN-1)/22))[:-1]*0.5,np.array(plt.cm.get_cmap('hsv')((chrN-1)/22))[:-1]*0.8]\n",
    "            color_list=[\"#%02x%02x%02x\"%(int(256*color[0]),int(256*color[1]),int(256*color[2]))for color in color_list]\n",
    "            regression_result['color'][regression_result_chr.index]=[color_list[(color_idx)%2] for color_idx in range(len(regression_result_chr.index))]\n",
    "            \n",
    "        color_series_list.append(regression_result['color'])\n",
    "    return color_series_list\n",
    "        \n",
    "color_series_list=get_color_series_list(regression_result_bp_list_dict['23115_irnt'])"
   ]
  },
  {
   "cell_type": "code",
   "execution_count": 104,
   "metadata": {},
   "outputs": [],
   "source": [
    "def bokeh_par_pie(regression_result_list,absorb=True,reverse_order=True,color_series_list=None):\n",
    "    regression_result_list=regression_result_list.copy()[::-1] if reverse_order else regression_result_list.copy()\n",
    "    \n",
    "    p = figure(plot_width=900,plot_height=900, title=\"Landscape of Heritability\",\n",
    "        x_range=(-1.0, 1.0),y_range=(-1.0, 1.0),tools=\"\")\n",
    "    \n",
    "    for idx,regression_result in enumerate(regression_result_list):\n",
    "        regression_result=regression_result.copy()\n",
    "        \n",
    "        if color_series_list==None:\n",
    "            regression_result['color']='#ff#ff#ff'\n",
    "            for chrN in range(1,22+1):\n",
    "                regression_result_chr=regression_result.loc[regression_result['category'].map(lambda x: category_to_format(x,'chr'))==chrN]\n",
    "                color_list=[np.array(plt.cm.get_cmap('hsv')((chrN-1)/22))[:-1]*0.5,np.array(plt.cm.get_cmap('hsv')((chrN-1)/22))[:-1]*0.8]\n",
    "                color_list=[\"#%02x%02x%02x\"%(int(256*color[0]),int(256*color[1]),int(256*color[2]))for color in color_list]\n",
    "                regression_result['color'][regression_result_chr.index]=[color_list[(color_idx)%2] for color_idx in range(len(regression_result_chr.index))]   \n",
    "        else:\n",
    "            regression_result['color']=color_series_list[::-1][idx] if reverse_order else color_series_list[idx]\n",
    "                \n",
    "        if absorb:\n",
    "            regression_result['h2']=absorb_negative(regression_result['h2'])            \n",
    "        regression_result['h2_ratio']=regression_result['h2']/regression_result['h2'].sum()\n",
    "        \n",
    "        regression_result['angle']=regression_result['h2_ratio']*2*np.pi\n",
    "        \n",
    "        start_angle=np.insert(regression_result['angle'].cumsum().values[:-1],0,0)\n",
    "        end_angle=regression_result['angle'].cumsum().values\n",
    "        regression_result['start_angle']=start_angle\n",
    "        regression_result['end_angle']=end_angle\n",
    "        \n",
    "        regression_result['value1']=regression_result['h2_ratio']*100\n",
    "        regression_result['value2']=regression_result['h2']\n",
    "        \n",
    "        regression_result['category']=regression_result['category'].map(lambda x: category_to_format(x,'chr_bp'))+'Mb'\n",
    "        \n",
    "        data=regression_result[['category','color','angle','start_angle','end_angle','value1','value2']]\n",
    "        \"\"\"\n",
    "        #direction, rotation\n",
    "        data['start_angle']=-data['start_angle']+np.pi/2+2*np.pi\n",
    "        data['end_angle']=-data['end_angle']+np.pi/2+2*np.pi\n",
    "        #clipping\n",
    "        print(data['start_angle'],2*np.pi*(data['start_angle']/(2*np.pi)).astype(int))\n",
    "        data['start_angle']=data['start_angle']-2*np.pi*(data['start_angle']/(2*np.pi)).astype(int)\n",
    "        data['end_angle']=data['end_angle']-2*np.pi*(data['end_angle']/(2*np.pi)).astype(int)\n",
    "        \"\"\"\n",
    "        \n",
    "        #print(idx,data)\n",
    "        p.annular_wedge(x=0, y=0,\n",
    "            outer_radius=1-len(regression_result_list)*(0.1)/(len(regression_result_list)-1)*idx,\n",
    "            inner_radius=1-len(regression_result_list)*(0.1)/(len(regression_result_list)-1)*(idx+1),\n",
    "            #direction='clock',\n",
    "            #start_angle='start_angle', end_angle='end_angle',\n",
    "            start_angle=cumsum('angle', include_zero=True), end_angle=cumsum('angle'),\n",
    "            line_color=\"white\",fill_color='color',legend='category', source=data)\n",
    "    \n",
    "    #tools=\"hover\", tooltips=\"@category <br> @value2 (@value1 %)\"\n",
    "    hover_tool = HoverTool(tooltips=\"@category <br> @value2 (@value1%)\")\n",
    "    p.add_tools(hover_tool,WheelPanTool(), TapTool(),WheelZoomTool(),PanTool(),LassoSelectTool(),BoxZoomTool(),ZoomOutTool(), ResetTool(),SaveTool())\n",
    "     \n",
    "\n",
    "    p.axis.visible=False\n",
    "    p.legend.visible=False\n",
    "    p.xgrid.visible = False\n",
    "    p.ygrid.visible = False\n",
    "    \n",
    "    output_file(web_test_path)\n",
    "    show(p)\n",
    "    #return json_item(p, \"par_pie\")\n",
    "    return p\n",
    "    \n",
    "#bokeh_par_pie(regression_result_bp_list_dict['23115_irnt'],color_series_list=color_series_list)"
   ]
  },
  {
   "cell_type": "code",
   "execution_count": null,
   "metadata": {},
   "outputs": [],
   "source": [
    "for idx,row in phenotypes_par_filtered.iterrows():\n",
    "    bokeh_to_html(bokeh_par_pie(regression_result_bp_list_dict[idx],color_series_list=color_series_list),web_phenotype_par_pie_path.format(idx))\n",
    "    #with open(web_phenotype_par_pie_path.format(idx),'w') as f:\n",
    "    #    json.dump(bokeh_par_pie(regression_result_bp_list_dict[idx],color_series_list=color_series_list),f)\n",
    "    print(idx)\n"
   ]
  },
  {
   "cell_type": "markdown",
   "metadata": {},
   "source": [
    "## Correlation Rank"
   ]
  },
  {
   "cell_type": "code",
   "execution_count": 1070,
   "metadata": {},
   "outputs": [],
   "source": [
    "h2_bp8_corr=h2_bp8_df.T.corr()"
   ]
  },
  {
   "cell_type": "code",
   "execution_count": 1073,
   "metadata": {},
   "outputs": [
    {
     "data": {
      "text/html": [
       "<div style=\"display: table;\"><div style=\"display: table-row;\"><div style=\"display: table-cell;\"><b title=\"bokeh.plotting.figure.Figure\">Figure</b>(</div><div style=\"display: table-cell;\">id&nbsp;=&nbsp;'1560273', <span id=\"1560432\" style=\"cursor: pointer;\">&hellip;)</span></div></div><div class=\"1560431\" style=\"display: none;\"><div style=\"display: table-cell;\"></div><div style=\"display: table-cell;\">above&nbsp;=&nbsp;[],</div></div><div class=\"1560431\" style=\"display: none;\"><div style=\"display: table-cell;\"></div><div style=\"display: table-cell;\">align&nbsp;=&nbsp;'start',</div></div><div class=\"1560431\" style=\"display: none;\"><div style=\"display: table-cell;\"></div><div style=\"display: table-cell;\">aspect_ratio&nbsp;=&nbsp;None,</div></div><div class=\"1560431\" style=\"display: none;\"><div style=\"display: table-cell;\"></div><div style=\"display: table-cell;\">aspect_scale&nbsp;=&nbsp;1,</div></div><div class=\"1560431\" style=\"display: none;\"><div style=\"display: table-cell;\"></div><div style=\"display: table-cell;\">background&nbsp;=&nbsp;None,</div></div><div class=\"1560431\" style=\"display: none;\"><div style=\"display: table-cell;\"></div><div style=\"display: table-cell;\">background_fill_alpha&nbsp;=&nbsp;{'value': 1.0},</div></div><div class=\"1560431\" style=\"display: none;\"><div style=\"display: table-cell;\"></div><div style=\"display: table-cell;\">background_fill_color&nbsp;=&nbsp;{'value': '#ffffff'},</div></div><div class=\"1560431\" style=\"display: none;\"><div style=\"display: table-cell;\"></div><div style=\"display: table-cell;\">below&nbsp;=&nbsp;[LinearAxis(id='1560282', ...)],</div></div><div class=\"1560431\" style=\"display: none;\"><div style=\"display: table-cell;\"></div><div style=\"display: table-cell;\">border_fill_alpha&nbsp;=&nbsp;{'value': 1.0},</div></div><div class=\"1560431\" style=\"display: none;\"><div style=\"display: table-cell;\"></div><div style=\"display: table-cell;\">border_fill_color&nbsp;=&nbsp;{'value': '#ffffff'},</div></div><div class=\"1560431\" style=\"display: none;\"><div style=\"display: table-cell;\"></div><div style=\"display: table-cell;\">center&nbsp;=&nbsp;[Grid(id='1560286', ...), Grid(id='1560290', ...)],</div></div><div class=\"1560431\" style=\"display: none;\"><div style=\"display: table-cell;\"></div><div style=\"display: table-cell;\">css_classes&nbsp;=&nbsp;[],</div></div><div class=\"1560431\" style=\"display: none;\"><div style=\"display: table-cell;\"></div><div style=\"display: table-cell;\">disabled&nbsp;=&nbsp;False,</div></div><div class=\"1560431\" style=\"display: none;\"><div style=\"display: table-cell;\"></div><div style=\"display: table-cell;\">extra_x_ranges&nbsp;=&nbsp;{},</div></div><div class=\"1560431\" style=\"display: none;\"><div style=\"display: table-cell;\"></div><div style=\"display: table-cell;\">extra_y_ranges&nbsp;=&nbsp;{},</div></div><div class=\"1560431\" style=\"display: none;\"><div style=\"display: table-cell;\"></div><div style=\"display: table-cell;\">frame_height&nbsp;=&nbsp;None,</div></div><div class=\"1560431\" style=\"display: none;\"><div style=\"display: table-cell;\"></div><div style=\"display: table-cell;\">frame_width&nbsp;=&nbsp;None,</div></div><div class=\"1560431\" style=\"display: none;\"><div style=\"display: table-cell;\"></div><div style=\"display: table-cell;\">height&nbsp;=&nbsp;None,</div></div><div class=\"1560431\" style=\"display: none;\"><div style=\"display: table-cell;\"></div><div style=\"display: table-cell;\">height_policy&nbsp;=&nbsp;'auto',</div></div><div class=\"1560431\" style=\"display: none;\"><div style=\"display: table-cell;\"></div><div style=\"display: table-cell;\">hidpi&nbsp;=&nbsp;True,</div></div><div class=\"1560431\" style=\"display: none;\"><div style=\"display: table-cell;\"></div><div style=\"display: table-cell;\">js_event_callbacks&nbsp;=&nbsp;{},</div></div><div class=\"1560431\" style=\"display: none;\"><div style=\"display: table-cell;\"></div><div style=\"display: table-cell;\">js_property_callbacks&nbsp;=&nbsp;{},</div></div><div class=\"1560431\" style=\"display: none;\"><div style=\"display: table-cell;\"></div><div style=\"display: table-cell;\">left&nbsp;=&nbsp;[CategoricalAxis(id='1560287', ...)],</div></div><div class=\"1560431\" style=\"display: none;\"><div style=\"display: table-cell;\"></div><div style=\"display: table-cell;\">lod_factor&nbsp;=&nbsp;10,</div></div><div class=\"1560431\" style=\"display: none;\"><div style=\"display: table-cell;\"></div><div style=\"display: table-cell;\">lod_interval&nbsp;=&nbsp;300,</div></div><div class=\"1560431\" style=\"display: none;\"><div style=\"display: table-cell;\"></div><div style=\"display: table-cell;\">lod_threshold&nbsp;=&nbsp;2000,</div></div><div class=\"1560431\" style=\"display: none;\"><div style=\"display: table-cell;\"></div><div style=\"display: table-cell;\">lod_timeout&nbsp;=&nbsp;500,</div></div><div class=\"1560431\" style=\"display: none;\"><div style=\"display: table-cell;\"></div><div style=\"display: table-cell;\">margin&nbsp;=&nbsp;(0, 0, 0, 0),</div></div><div class=\"1560431\" style=\"display: none;\"><div style=\"display: table-cell;\"></div><div style=\"display: table-cell;\">match_aspect&nbsp;=&nbsp;False,</div></div><div class=\"1560431\" style=\"display: none;\"><div style=\"display: table-cell;\"></div><div style=\"display: table-cell;\">max_height&nbsp;=&nbsp;None,</div></div><div class=\"1560431\" style=\"display: none;\"><div style=\"display: table-cell;\"></div><div style=\"display: table-cell;\">max_width&nbsp;=&nbsp;None,</div></div><div class=\"1560431\" style=\"display: none;\"><div style=\"display: table-cell;\"></div><div style=\"display: table-cell;\">min_border&nbsp;=&nbsp;5,</div></div><div class=\"1560431\" style=\"display: none;\"><div style=\"display: table-cell;\"></div><div style=\"display: table-cell;\">min_border_bottom&nbsp;=&nbsp;None,</div></div><div class=\"1560431\" style=\"display: none;\"><div style=\"display: table-cell;\"></div><div style=\"display: table-cell;\">min_border_left&nbsp;=&nbsp;None,</div></div><div class=\"1560431\" style=\"display: none;\"><div style=\"display: table-cell;\"></div><div style=\"display: table-cell;\">min_border_right&nbsp;=&nbsp;None,</div></div><div class=\"1560431\" style=\"display: none;\"><div style=\"display: table-cell;\"></div><div style=\"display: table-cell;\">min_border_top&nbsp;=&nbsp;None,</div></div><div class=\"1560431\" style=\"display: none;\"><div style=\"display: table-cell;\"></div><div style=\"display: table-cell;\">min_height&nbsp;=&nbsp;None,</div></div><div class=\"1560431\" style=\"display: none;\"><div style=\"display: table-cell;\"></div><div style=\"display: table-cell;\">min_width&nbsp;=&nbsp;None,</div></div><div class=\"1560431\" style=\"display: none;\"><div style=\"display: table-cell;\"></div><div style=\"display: table-cell;\">name&nbsp;=&nbsp;None,</div></div><div class=\"1560431\" style=\"display: none;\"><div style=\"display: table-cell;\"></div><div style=\"display: table-cell;\">outline_line_alpha&nbsp;=&nbsp;{'value': 1.0},</div></div><div class=\"1560431\" style=\"display: none;\"><div style=\"display: table-cell;\"></div><div style=\"display: table-cell;\">outline_line_cap&nbsp;=&nbsp;'butt',</div></div><div class=\"1560431\" style=\"display: none;\"><div style=\"display: table-cell;\"></div><div style=\"display: table-cell;\">outline_line_color&nbsp;=&nbsp;{'value': '#e5e5e5'},</div></div><div class=\"1560431\" style=\"display: none;\"><div style=\"display: table-cell;\"></div><div style=\"display: table-cell;\">outline_line_dash&nbsp;=&nbsp;[],</div></div><div class=\"1560431\" style=\"display: none;\"><div style=\"display: table-cell;\"></div><div style=\"display: table-cell;\">outline_line_dash_offset&nbsp;=&nbsp;0,</div></div><div class=\"1560431\" style=\"display: none;\"><div style=\"display: table-cell;\"></div><div style=\"display: table-cell;\">outline_line_join&nbsp;=&nbsp;'bevel',</div></div><div class=\"1560431\" style=\"display: none;\"><div style=\"display: table-cell;\"></div><div style=\"display: table-cell;\">outline_line_width&nbsp;=&nbsp;{'value': 1},</div></div><div class=\"1560431\" style=\"display: none;\"><div style=\"display: table-cell;\"></div><div style=\"display: table-cell;\">output_backend&nbsp;=&nbsp;'canvas',</div></div><div class=\"1560431\" style=\"display: none;\"><div style=\"display: table-cell;\"></div><div style=\"display: table-cell;\">plot_height&nbsp;=&nbsp;1000,</div></div><div class=\"1560431\" style=\"display: none;\"><div style=\"display: table-cell;\"></div><div style=\"display: table-cell;\">plot_width&nbsp;=&nbsp;1000,</div></div><div class=\"1560431\" style=\"display: none;\"><div style=\"display: table-cell;\"></div><div style=\"display: table-cell;\">renderers&nbsp;=&nbsp;[GlyphRenderer(id='1560308', ...)],</div></div><div class=\"1560431\" style=\"display: none;\"><div style=\"display: table-cell;\"></div><div style=\"display: table-cell;\">reset_policy&nbsp;=&nbsp;'standard',</div></div><div class=\"1560431\" style=\"display: none;\"><div style=\"display: table-cell;\"></div><div style=\"display: table-cell;\">right&nbsp;=&nbsp;[],</div></div><div class=\"1560431\" style=\"display: none;\"><div style=\"display: table-cell;\"></div><div style=\"display: table-cell;\">sizing_mode&nbsp;=&nbsp;None,</div></div><div class=\"1560431\" style=\"display: none;\"><div style=\"display: table-cell;\"></div><div style=\"display: table-cell;\">subscribed_events&nbsp;=&nbsp;[],</div></div><div class=\"1560431\" style=\"display: none;\"><div style=\"display: table-cell;\"></div><div style=\"display: table-cell;\">tags&nbsp;=&nbsp;[],</div></div><div class=\"1560431\" style=\"display: none;\"><div style=\"display: table-cell;\"></div><div style=\"display: table-cell;\">title&nbsp;=&nbsp;Title(id='1560330', ...),</div></div><div class=\"1560431\" style=\"display: none;\"><div style=\"display: table-cell;\"></div><div style=\"display: table-cell;\">title_location&nbsp;=&nbsp;'above',</div></div><div class=\"1560431\" style=\"display: none;\"><div style=\"display: table-cell;\"></div><div style=\"display: table-cell;\">toolbar&nbsp;=&nbsp;Toolbar(id='1560297', ...),</div></div><div class=\"1560431\" style=\"display: none;\"><div style=\"display: table-cell;\"></div><div style=\"display: table-cell;\">toolbar_location&nbsp;=&nbsp;'right',</div></div><div class=\"1560431\" style=\"display: none;\"><div style=\"display: table-cell;\"></div><div style=\"display: table-cell;\">toolbar_sticky&nbsp;=&nbsp;True,</div></div><div class=\"1560431\" style=\"display: none;\"><div style=\"display: table-cell;\"></div><div style=\"display: table-cell;\">visible&nbsp;=&nbsp;True,</div></div><div class=\"1560431\" style=\"display: none;\"><div style=\"display: table-cell;\"></div><div style=\"display: table-cell;\">width&nbsp;=&nbsp;None,</div></div><div class=\"1560431\" style=\"display: none;\"><div style=\"display: table-cell;\"></div><div style=\"display: table-cell;\">width_policy&nbsp;=&nbsp;'auto',</div></div><div class=\"1560431\" style=\"display: none;\"><div style=\"display: table-cell;\"></div><div style=\"display: table-cell;\">x_range&nbsp;=&nbsp;DataRange1d(id='1560274', ...),</div></div><div class=\"1560431\" style=\"display: none;\"><div style=\"display: table-cell;\"></div><div style=\"display: table-cell;\">x_scale&nbsp;=&nbsp;LinearScale(id='1560278', ...),</div></div><div class=\"1560431\" style=\"display: none;\"><div style=\"display: table-cell;\"></div><div style=\"display: table-cell;\">y_range&nbsp;=&nbsp;FactorRange(id='1560276', ...),</div></div><div class=\"1560431\" style=\"display: none;\"><div style=\"display: table-cell;\"></div><div style=\"display: table-cell;\">y_scale&nbsp;=&nbsp;CategoricalScale(id='1560280', ...))</div></div></div>\n",
       "<script>\n",
       "(function() {\n",
       "  var expanded = false;\n",
       "  var ellipsis = document.getElementById(\"1560432\");\n",
       "  ellipsis.addEventListener(\"click\", function() {\n",
       "    var rows = document.getElementsByClassName(\"1560431\");\n",
       "    for (var i = 0; i < rows.length; i++) {\n",
       "      var el = rows[i];\n",
       "      el.style.display = expanded ? \"none\" : \"table-row\";\n",
       "    }\n",
       "    ellipsis.innerHTML = expanded ? \"&hellip;)\" : \"&lsaquo;&lsaquo;&lsaquo;\";\n",
       "    expanded = !expanded;\n",
       "  });\n",
       "})();\n",
       "</script>\n"
      ],
      "text/plain": [
       "Figure(id='1560273', ...)"
      ]
     },
     "execution_count": 1073,
     "metadata": {},
     "output_type": "execute_result"
    }
   ],
   "source": [
    "def bokeh_corr_rank(phenotype):\n",
    "    corr_bokeh=heatmap_to_bokehdata(h2_bp8_corr)\n",
    "    corr_bokeh=corr_bokeh[(corr_bokeh['x_data']==phenotype)]\n",
    "    corr_bokeh['color']=norm_color(corr_bokeh['value'],plt.cm.viridis)\n",
    "    \n",
    "    data=corr_bokeh\n",
    "    data['description']=data['y_data'].map(code_to_description)\n",
    "    data=data.sort_values('value',ascending=False).iloc[:50]\n",
    "    p = figure(y_range=data['description'].iloc[::-1], plot_height=1000,plot_width=1000)\n",
    "\n",
    "    #p.vbar(x='description',top='value',source=data,width=0.8)\n",
    "    p.hbar(y='description',right='value',source=data,height=0.6)\n",
    "\n",
    "\n",
    "    hover_tool = HoverTool(tooltips=[\n",
    "    (\"Code\",\"@y_data\"),    \n",
    "    (\"Phenotype\",\"@description\"),\n",
    "    (\"Correlation\",\"@value\")\n",
    "    #(\"x,y\", \"@x, @top\"),\n",
    "    #('desc', '@desc'),\n",
    "    ])\n",
    "    p.add_tools(hover_tool,WheelPanTool(), TapTool(),WheelZoomTool(),PanTool(),LassoSelectTool(),BoxZoomTool(),ZoomOutTool(), ResetTool(),SaveTool())\n",
    "\n",
    "    p.title.text = \"Correlation with the phenotype\"\n",
    "    #p.xaxis.major_label_orientation = \"vertical\"\n",
    "    #p.xaxis.major_label_orientation = \"vertical\"\n",
    "    #p.xaxis.major_label_orientation='vertical'\n",
    "    #p.xgrid.grid_line_color = None\n",
    "    #p.yaxis.location='right'\n",
    "    #p.y_range.start = 0\n",
    "    #p.y_range.flipped = True\n",
    "    \n",
    "    show(p)\n",
    "    \n",
    "    return p\n",
    "\n",
    "\n",
    "bokeh_corr_rank('50_irnt')"
   ]
  },
  {
   "cell_type": "code",
   "execution_count": null,
   "metadata": {},
   "outputs": [],
   "source": [
    "for idx,row in phenotypes_par_filtered.iterrows():\n",
    "    bokeh_to_html(bokeh_corr_rank(idx),web_phenotype_corr_rank_path.format(idx))\n",
    "    #with open(web_phenotype_corr_rank_path.format(idx),'w') as f:\n",
    "    #    json.dump(bokeh_corr_rank(idx),f)\n",
    "    print(idx)"
   ]
  },
  {
   "cell_type": "code",
   "execution_count": 1075,
   "metadata": {},
   "outputs": [
    {
     "data": {
      "text/plain": [
       "\"\\nwith open(web_correlation_path.format('50_irnt'),'w') as f:\\n    json.dump(json_item(plot),f)\\n\""
      ]
     },
     "execution_count": 1075,
     "metadata": {},
     "output_type": "execute_result"
    }
   ],
   "source": [
    "\n",
    "\"\"\"\n",
    "with open(web_correlation_path.format('50_irnt'),'w') as f:\n",
    "    json.dump(json_item(plot),f)\n",
    "\"\"\""
   ]
  },
  {
   "cell_type": "markdown",
   "metadata": {},
   "source": [
    "## ANOVA per each phenotype"
   ]
  },
  {
   "cell_type": "code",
   "execution_count": 107,
   "metadata": {},
   "outputs": [],
   "source": [
    "from bokeh.io import show, output_file\n",
    "from bokeh.palettes import Spectral5\n",
    "from bokeh.plotting import figure\n",
    "from bokeh.sampledata.autompg import autompg as df\n",
    "from bokeh.transform import factor_cmap\n",
    "from bokeh.models import ColumnDataSource\n",
    "from bokeh.embed import components\n",
    "\n",
    "def bokeh_anova_pheno(anova_df_pval_times,phenotype):\n",
    "\n",
    "    output_file(web_test_path)\n",
    "\n",
    "    data=anova_df_pval_times.loc[phenotype]\n",
    "    #data.columns=['scale','p-value']\n",
    "    data.index=(data.index.str.replace('bp','')+'Mb').str.replace('300Mb','chr')\n",
    "    data=-np.log10(data)\n",
    "\n",
    "    p = figure(x_range=data.index.values, plot_height=500,title=\"ANOVA result\",tools=\"\")\n",
    "    \n",
    "    p.vbar(x=data.index.values,top=data.values,width=0.9)\n",
    "\n",
    "    p.xgrid.grid_line_color = None\n",
    "    p.y_range.start = 0\n",
    "    p.xaxis.axis_label = \"Segment Size\"\n",
    "    p.yaxis.axis_label = \"-log10(p-value)\"\n",
    "    \n",
    "    hover_tool = HoverTool(tooltips=[\n",
    "    #(\"\",@)\n",
    "    (\"Segment Size\", \"@x\"),    \n",
    "    (\"-log10(p-value)\", \"@top\"),\n",
    "    #('desc', '@desc'),\n",
    "    ])\n",
    "\n",
    "    p.add_tools(hover_tool,WheelPanTool(), TapTool(),WheelZoomTool(),PanTool(),LassoSelectTool(),BoxZoomTool(),ZoomOutTool(), ResetTool(),SaveTool())\n",
    "    #p.x_axis_location??\n",
    "\n",
    "    show(p)\n",
    "    #return json_item(p, \"anova_pheno\")\n",
    "    return p\n",
    "    \n",
    "#bokeh_anova_pheno(anova_df_pval_times,'23115_irnt')"
   ]
  },
  {
   "cell_type": "code",
   "execution_count": 108,
   "metadata": {},
   "outputs": [
    {
     "data": {
      "text/plain": [
       "'web/partitioned_heritability_website/plot_data/phenotype_anova_phenoype_{}'"
      ]
     },
     "execution_count": 108,
     "metadata": {},
     "output_type": "execute_result"
    }
   ],
   "source": [
    "web_phenotype_anova_phenotype_path"
   ]
  },
  {
   "cell_type": "code",
   "execution_count": null,
   "metadata": {},
   "outputs": [],
   "source": [
    "for idx,row in phenotypes_par_filtered.iterrows():\n",
    "    bokeh_to_html(bokeh_anova_pheno(anova_df_pval_times,idx),web_phenotype_anova_phenotype_path.format(idx))\n",
    "    #with open(web_phenotype_anova_phenotype_path.format(idx),'w') as f:\n",
    "    #    json.dump(bokeh_anova_pheno(anova_df_pval_times,idx),f)\n",
    "    print(idx)"
   ]
  },
  {
   "cell_type": "code",
   "execution_count": 110,
   "metadata": {},
   "outputs": [
    {
     "data": {
      "text/plain": [
       "\"\\nwith open(web_anova_total_path,'w') as f:\\n    json.dump(json_item(p),f)\\n\""
      ]
     },
     "execution_count": 110,
     "metadata": {},
     "output_type": "execute_result"
    }
   ],
   "source": [
    "\"\"\"\n",
    "with open(web_anova_total_path,'w') as f:\n",
    "    json.dump(json_item(p),f)\n",
    "\"\"\""
   ]
  },
  {
   "cell_type": "markdown",
   "metadata": {},
   "source": [
    "# Alluvial"
   ]
  },
  {
   "cell_type": "code",
   "execution_count": 862,
   "metadata": {},
   "outputs": [
    {
     "name": "stdout",
     "output_type": "stream",
     "text": [
      "category                            Chr1 0-32  Chr1 32-64  Chr1 64-96  \\\n",
      "Leg fat percentage (left)            0.011868    0.011868    0.013416   \n",
      "Mean platelet (thrombocyte) volume   0.017018    0.007844    0.003636   \n",
      "\n",
      "category                            Chr1 96-128  Chr1 128-160  Chr1 160-192  \\\n",
      "Leg fat percentage (left)              0.009804      0.003612      0.008772   \n",
      "Mean platelet (thrombocyte) volume     0.012060      0.008972      0.022041   \n",
      "\n",
      "category                            Chr1 192-224  Chr1 224-249  Chr2 0-32  \\\n",
      "Leg fat percentage (left)               0.011868      0.004644   0.017544   \n",
      "Mean platelet (thrombocyte) volume      0.029888      0.018274   0.008506   \n",
      "\n",
      "category                            Chr2 32-64  ...  Chr18 32-64  Chr18 64-78  \\\n",
      "Leg fat percentage (left)             0.020640  ...     0.017544     0.003612   \n",
      "Mean platelet (thrombocyte) volume    0.009514  ...     0.004224     0.010000   \n",
      "\n",
      "category                            Chr19 0-32  Chr19 32-59  Chr20 0-32  \\\n",
      "Leg fat percentage (left)             0.018576     0.010320    0.009288   \n",
      "Mean platelet (thrombocyte) volume    0.022564     0.032335    0.019632   \n",
      "\n",
      "category                            Chr20 32-62  Chr21 0-32  Chr21 32-48  \\\n",
      "Leg fat percentage (left)              0.016512    0.004128     0.008772   \n",
      "Mean platelet (thrombocyte) volume     0.020644    0.000000     0.001506   \n",
      "\n",
      "category                            Chr22 0-32  Chr22 32-51  \n",
      "Leg fat percentage (left)             0.003096     0.007224  \n",
      "Mean platelet (thrombocyte) volume    0.007054     0.011770  \n",
      "\n",
      "[2 rows x 100 columns]\n"
     ]
    }
   ],
   "source": [
    "def boche_alluvial(phenotype_list,regression_result_list_dict,chr_list):\n",
    "    regression_result_list_list=[regression_result_list_dict[phenotype].copy() for phenotype in phenotype_list]\n",
    "    regression_result_chrdict_list_list=[[regression_result_groupchr(regression_result) for regression_result in regression_result_list] for regression_result_list in regression_result_list_list]\n",
    "    \n",
    "    scale_idx=3\n",
    "    \n",
    "    df_data=pd.concat([pd.concat([regression_result_chrdict_list_list[pheno_idx][scale_idx][chrN]['h2_ratio'] for pheno_idx in range(len(phenotype_list))],axis=1) for chrN in chr_list])\n",
    "    \n",
    "    df_index=pd.concat([regression_result_chrdict_list_list[0][scale_idx][chrN]['category'] for chrN in chr_list])\n",
    "    df_columns=phenotype_list\n",
    "    df=pd.DataFrame(df_data);df.columns=df_columns;df.index=df_index\n",
    "    #print(df)\n",
    "    df=df.apply(absorb_negative)\n",
    "    #print(df)\n",
    "    \n",
    "    \n",
    "    #df['color']=\"#ffffff\"\n",
    "    df_color=pd.Series([\"#ffffff\"]*df.shape[0],index=df.index)\n",
    "    #print(color_list)\n",
    "    #print(df)\n",
    "    df_color=plt.cm.viridis([i for i in range(len(df_color))])\n",
    "    df_color=[\"#%02x%02x%02x\"%(int(256*color[0]),int(256*color[1]),int(256*color[2])) for color in df_color]\n",
    "    \"\"\"\n",
    "    for chrN in chr_list:\n",
    "        df_chr=df.loc[df.index.map(lambda x: category_to_format(x,'chr'))==chrN]\n",
    "        color_list=[np.array(plt.cm.get_cmap('hsv')((chrN-1)/22))[:-1]*0.5,np.array(plt.cm.get_cmap('hsv')((chrN-1)/22))[:-1]*0.8]\n",
    "        color_list=[\"#%02x%02x%02x\"%(int(256*color[0]),int(256*color[1]),int(256*color[2]))for color in color_list]\n",
    "        df_color[df_chr.index]=[color_list[(color_idx)%2] for color_idx in range(len(df_chr.index))]\n",
    "    \"\"\"\n",
    "    df=df.T\n",
    "    \n",
    "    output_file(web_test_path)\n",
    "\n",
    "    df.index=df.index.map(code_to_description)\n",
    "    df.columns=df.columns.map(lambda x: category_to_format(x,'chr_bp'))\n",
    "    names=df.columns.values\n",
    "    print(df)\n",
    "    \n",
    "    p = figure(x_range=df.index.values,plot_height=5000,y_range=(0, 1),tools=[HoverTool(tooltips=\"@name\")])\n",
    "    p.grid.minor_grid_line_color = '#eeeeee'\n",
    "\n",
    "    #p.vbar_stack(stackers=names, x='index', color=list(df_color),legend=[value(x) for x in names], source=df,width=1)\n",
    "    p.varea_stack(stackers=names, x='index', color=df_color,legend=[value(x) for x in names], source=df)\n",
    "\n",
    "    hover_tool = HoverTool(tooltips=[\n",
    "    #(\"\",@)\n",
    "\n",
    "    (\"index\", \"$index\"),\n",
    "    (\"Phenotype\",\"@description\"),\n",
    "    (\"(x,y)\", \"(@index, @y_data)\"),\n",
    "    (\"ratio\",\"@value\"),\n",
    "    \n",
    "    #('desc', '@desc'),\n",
    "    ])\n",
    "\n",
    "    #p.add_tools(hover_tool,WheelPanTool(), TapTool(),WheelZoomTool(),PanTool(),LassoSelectTool(),BoxZoomTool(),ZoomOutTool(), ResetTool(),SaveTool())\n",
    "    \n",
    "    p.legend.visible=False\n",
    "    show(p)\n",
    "    \n",
    "boche_alluvial(['23115_irnt','30100_irnt'],regression_result_bp_list_dict,list(range(1,22+1)))"
   ]
  },
  {
   "cell_type": "code",
   "execution_count": 843,
   "metadata": {},
   "outputs": [],
   "source": [
    "from bokeh.io import show, output_file\n",
    "from bokeh.plotting import figure\n",
    "\n",
    "\n",
    "\n",
    "fruits = ['Apples', 'Pears', 'Nectarines', 'Plums', 'Grapes', 'Strawberries']\n",
    "years = [\"2015\", \"2016\", \"2017\"]\n",
    "colors = [\"#c9d9d3\", \"#718dbf\", \"#e84d60\"]\n",
    "\n",
    "data = {'fruits' : fruits,\n",
    "        '2015'   : [2, 1, 4, 3, 2, 4],\n",
    "        '2016'   : [5, 3, 4, 2, 4, 6],\n",
    "        '2017'   : [3, 2, 4, 4, 5, 3]}\n",
    "\n",
    "p = figure(x_range=fruits, plot_height=250, title=\"Fruit Counts by Year\",\n",
    "           toolbar_location=None, tools=\"hover\", tooltips=\"$name @fruits: @$name\")\n",
    "\n",
    "p.vbar_stack(years, x='fruits', width=0.9, color=colors, source=data,\n",
    "             legend=[value(x) for x in years])\n",
    "\n",
    "p.y_range.start = 0\n",
    "p.x_range.range_padding = 0.1\n",
    "p.xgrid.grid_line_color = None\n",
    "p.axis.minor_tick_line_color = None\n",
    "p.outline_line_color = None\n",
    "p.legend.location = \"top_left\"\n",
    "p.legend.orientation = \"horizontal\"\n",
    "\n",
    "show(p)"
   ]
  },
  {
   "cell_type": "code",
   "execution_count": 834,
   "metadata": {},
   "outputs": [
    {
     "data": {
      "text/plain": [
       "list"
      ]
     },
     "execution_count": 834,
     "metadata": {},
     "output_type": "execute_result"
    }
   ],
   "source": [
    "type(brewer['Spectral'][10])"
   ]
  },
  {
   "cell_type": "code",
   "execution_count": 156,
   "metadata": {},
   "outputs": [
    {
     "name": "stdout",
     "output_type": "stream",
     "text": [
      "category      bp8.1.0    bp8.1.8   bp8.1.16   bp8.1.24   bp8.1.32   bp8.1.40  \\\n",
      "23115_irnt  40.366199  25.345535  29.951241  21.498096  36.886824  28.877932   \n",
      "30100_irnt  47.694196  53.495174   4.462164  60.115499   5.472829  52.745471   \n",
      "\n",
      "category     bp8.1.48   bp8.1.56   bp8.1.64   bp8.1.72  ...  bp8.3.120  \\\n",
      "23115_irnt  15.242532  36.998531  34.190940  48.080124  ...   30.90821   \n",
      "30100_irnt  17.537306   6.633025   7.508907   3.151127  ...  181.33381   \n",
      "\n",
      "category    bp8.3.128  bp8.3.136  bp8.3.144  bp8.3.152  bp8.3.160  bp8.3.168  \\\n",
      "23115_irnt  37.286291  27.794327  11.971642  32.403121  12.264550  44.534344   \n",
      "30100_irnt  11.250046  22.450521  14.057539   1.827718  28.800871  20.300144   \n",
      "\n",
      "category    bp8.3.176  bp8.3.184  bp8.3.192  \n",
      "23115_irnt  21.432719  24.087422  17.916796  \n",
      "30100_irnt  28.454697   2.095153  31.764859  \n",
      "\n",
      "[2 rows x 86 columns] 2\n",
      "category  bp8.1.0   bp8.1.8  bp8.1.16  bp8.1.24  bp8.1.32  bp8.1.40  bp8.1.48  \\\n",
      "0         4.03662  2.534554  2.995124   2.14981  3.688682  2.887793  1.524253   \n",
      "1         4.76942  5.349517  0.446216   6.01155  0.547283  5.274547  1.753731   \n",
      "\n",
      "category  bp8.1.56  bp8.1.64  bp8.1.72  ...  bp8.3.120  bp8.3.128  bp8.3.136  \\\n",
      "0         3.699853  3.419094  4.808012  ...   3.090821   3.728629   2.779433   \n",
      "1         0.663302  0.750891  0.315113  ...  18.133381   1.125005   2.245052   \n",
      "\n",
      "category  bp8.3.144  bp8.3.152  bp8.3.160  bp8.3.168  bp8.3.176  bp8.3.184  \\\n",
      "0          1.197164   3.240312   1.226455   4.453434   2.143272   2.408742   \n",
      "1          1.405754   0.182772   2.880087   2.030014   2.845470   0.209515   \n",
      "\n",
      "category  bp8.3.192  \n",
      "0          1.791680  \n",
      "1          3.176486  \n",
      "\n",
      "[2 rows x 86 columns]\n"
     ]
    }
   ],
   "source": [
    "def boche_alluvial(phenotype_list,regression_result_list_dict,chr_list):\n",
    "    regression_result_list_list=[regression_result_list_dict[phenotype].copy() for phenotype in phenotype_list]\n",
    "    regression_result_chrdict_list_list=[[regression_result_groupchr(regression_result) for regression_result in regression_result_list] for regression_result_list in regression_result_list_list]\n",
    "    \n",
    "    scale_idx=-1\n",
    "    \n",
    "    df_data=pd.concat([pd.concat([regression_result_chrdict_list_list[pheno_idx][scale_idx][chrN]['h2_ratio'] for pheno_idx in range(len(phenotype_list))],axis=1) for chrN in chr_list])\n",
    "    \n",
    "    df_index=pd.concat([regression_result_chrdict_list_list[0][scale_idx][chrN]['category'] for chrN in chr_list])\n",
    "    df_columns=phenotype_list\n",
    "    df=pd.DataFrame(df_data);df.columns=df_columns;df.index=df_index\n",
    "    #print(df)\n",
    "    df=df.apply(absorb_negative)\n",
    "    #print(df)\n",
    "    #df_color=pd.Series([\"#ffffff\"]*df.shape[0],index=df.index)\n",
    "    df['color']=\"#ffffff\"\n",
    "    #print(color_list)\n",
    "   \n",
    "    for chrN in chr_list:\n",
    "        df_chr=df.loc[df.index.map(lambda x: category_to_format(x,'chr'))==chrN]\n",
    "        color_list=[np.array(plt.cm.get_cmap('hsv')((chrN-1)/22))[:-1]*0.5,np.array(plt.cm.get_cmap('hsv')((chrN-1)/22))[:-1]*0.8]\n",
    "        color_list=[\"#%02x%02x%02x\"%(int(256*color[1]),int(256*color[0]),int(256*color[2]))for color in color_list]\n",
    "        df['color'][df_chr.index]=[color_list[(color_idx)%2] for color_idx in range(len(df_chr.index))]\n",
    "    #df=df.reset_index()\n",
    "    #print(df)\n",
    "    a=df\n",
    "    df=df.T*10000\n",
    "    print(df,len(df))\n",
    "    output_file(web_test_path)\n",
    "    #print([x for x in df.columns.values])\n",
    "    p = figure(x_range=(0,1), y_range=(0, 100))\n",
    "    p.varea_stack(stackers=df.columns.values,x='index', source=df)\n",
    "    show(p)\n",
    "    \n",
    "    \n",
    "    N = 10\n",
    "    df = pd.DataFrame(np.random.randint(10, 100, size=(15, N))).add_prefix('y')\n",
    "    names = [\"y%d\" % i for i in range(N)]\n",
    "    \n",
    "    df=a.T*1000\n",
    "    df.index=[i for i in range(len(df.index))]\n",
    "    #N=len(df.columns)\n",
    "    names=df.columns.values\n",
    "    print(df)\n",
    "    \n",
    "    p = figure(x_range=(0, len(df)-1), y_range=(0, 800))\n",
    "    p.grid.minor_grid_line_color = '#eeeeee'\n",
    "\n",
    "    #print(value(df.columns.values[0]))\n",
    "    p.varea_stack(stackers=names, x='index', color='#cccccc',legend=[value(x) for x in names], source=df)\n",
    "\n",
    "    # reverse the legend entries to match the stacked order\n",
    "    #p.legend[0].items.reverse()\n",
    "    show(p)\n",
    "    \n",
    "boche_alluvial(['23115_irnt','30100_irnt'],regression_result_bp_list_dict,list(range(1,3+1)))"
   ]
  },
  {
   "cell_type": "markdown",
   "metadata": {},
   "source": [
    "## Table Data"
   ]
  },
  {
   "cell_type": "code",
   "execution_count": 111,
   "metadata": {},
   "outputs": [],
   "source": [
    "data_merged=phenotypes_par_filtered.merge(h2_total[h2_total.columns[h2_total.columns.str.contains('uni')]],on='phenotype')\n",
    "data_merged.columns=data_merged.columns.str.replace('uni.','')"
   ]
  },
  {
   "cell_type": "code",
   "execution_count": 121,
   "metadata": {},
   "outputs": [
    {
     "name": "stderr",
     "output_type": "stream",
     "text": [
      "/home/ch6845/tools/miniconda3/lib/python3.7/site-packages/pandas/core/indexing.py:190: SettingWithCopyWarning: \n",
      "A value is trying to be set on a copy of a slice from a DataFrame\n",
      "\n",
      "See the caveats in the documentation: http://pandas.pydata.org/pandas-docs/stable/indexing.html#indexing-view-versus-copy\n",
      "  self._setitem_with_indexer(indexer, value)\n"
     ]
    }
   ],
   "source": [
    "data_merged['description'].loc['C_SKIN']='C_SKIN'"
   ]
  },
  {
   "cell_type": "code",
   "execution_count": 123,
   "metadata": {},
   "outputs": [],
   "source": [
    "data_merged['description']=data_merged.apply(lambda x: '<a href=\"/phenotype/{}\">'.format(x.name)+x['description']+'</a>',axis=1)\n",
    "data_merged['-log10(h2_p)']=-np.log10(data_merged['Total h2 p']).round(2)\n",
    "data_merged['prev(%)']=(data_merged['n_cases']/(data_merged['n_cases']+data_merged['n_controls'])*100).round(2)\n",
    "data_merged['Mean Chi^2']=data_merged['Mean Chi^2'].round(2)\n",
    "data_merged['Lambda GC']=data_merged['Lambda GC'].round(2)\n",
    "data_merged['Intercept']=data_merged['Intercept'].round(2)"
   ]
  },
  {
   "cell_type": "code",
   "execution_count": 124,
   "metadata": {},
   "outputs": [
    {
     "data": {
      "text/plain": [
       "(497, 29)"
      ]
     },
     "execution_count": 124,
     "metadata": {},
     "output_type": "execute_result"
    }
   ],
   "source": [
    "data_merged.shape"
   ]
  },
  {
   "cell_type": "code",
   "execution_count": 125,
   "metadata": {},
   "outputs": [],
   "source": [
    "data_merged=data_merged[[ 'description','Sex',\n",
    "                'Total Liability scale h2','-log10(h2_p)',\n",
    "               'Intercept', 'Intercept_se', 'Ratio','Lambda GC','Mean Chi^2', \n",
    "               'prev(%)'\n",
    "              ]]"
   ]
  },
  {
   "cell_type": "code",
   "execution_count": 126,
   "metadata": {},
   "outputs": [],
   "source": [
    "tosave=data_merged.rename(mapper={'description':'Description','Total Liability scale h2':'h2'},axis='columns')"
   ]
  },
  {
   "cell_type": "code",
   "execution_count": 127,
   "metadata": {},
   "outputs": [],
   "source": [
    "tosave.to_csv(web_data_path+'table.csv')"
   ]
  },
  {
   "cell_type": "markdown",
   "metadata": {},
   "source": [
    "# Phenotype Info"
   ]
  },
  {
   "cell_type": "code",
   "execution_count": 129,
   "metadata": {},
   "outputs": [],
   "source": [
    "data_merged=phenotypes_par_filtered.merge(h2_total[h2_total.columns[h2_total.columns.str.contains('uni')]],on='phenotype')\n",
    "data_merged.columns=data_merged.columns.str.replace('uni.','')"
   ]
  },
  {
   "cell_type": "code",
   "execution_count": 130,
   "metadata": {},
   "outputs": [],
   "source": [
    "#data_merged['description']=data_merged.apply(lambda x: '<a href=\"/phenotype/{}\">'.format(x.name)+x['description']+'</a>',axis=1)\n",
    "data_merged['UK Biobank Data Showcase Link']=data_merged['UK Biobank Data Showcase Link'].map(lambda x: '<a href=\"{}\">{}</a>'.format(x,x) if type(x)==str else '')\n",
    "#=data_merged.apply(lambda x: '<a href=\"{}\">'.format(x['UK Biobank Data Showcase Link'])+x['UK Biobank Data Showcase Link']+'</a>' if type(x),axis=1)\n",
    "\n",
    "data_merged['-log10(h2_p)']=-np.log10(data_merged['Total h2 p']).round(2)\n",
    "data_merged['prev(%)']=(data_merged['n_cases']/(data_merged['n_cases']+data_merged['n_controls'])*100).round(2)\n",
    "data_merged['Mean Chi^2']=data_merged['Mean Chi^2'].round(2)\n",
    "data_merged['Lambda GC']=data_merged['Lambda GC'].round(2)\n",
    "data_merged['Intercept']=data_merged['Intercept'].round(2)"
   ]
  },
  {
   "cell_type": "code",
   "execution_count": 131,
   "metadata": {},
   "outputs": [],
   "source": [
    "#data_merged['UK Biobank Data Showcase Link'].iloc[1]"
   ]
  },
  {
   "cell_type": "code",
   "execution_count": 132,
   "metadata": {},
   "outputs": [
    {
     "data": {
      "text/plain": [
       "Index(['PHESANT_transformation', 'Sex', 'description', 'n_cases', 'n_controls',\n",
       "       'n_missing', 'n_non_missing', 'notes', 'source', 'variable_type',\n",
       "       'Phenotype Code', 'UK Biobank Data Showcase Link', 'File',\n",
       "       'wget command', 'Dropbox File', 'filename', 'Total Observed scale h2',\n",
       "       'Total Observed scale h2_se', 'Total Liability scale h2',\n",
       "       'Total Liability scale h2_se', 'Lambda GC', 'Mean Chi^2', 'Intercept',\n",
       "       'Intercept_se', 'Ratio', 'Total h2 z', 'Total h2 p', '-log10(h2_p)',\n",
       "       'prev(%)'],\n",
       "      dtype='object')"
      ]
     },
     "execution_count": 132,
     "metadata": {},
     "output_type": "execute_result"
    }
   ],
   "source": [
    "data_merged.columns"
   ]
  },
  {
   "cell_type": "code",
   "execution_count": 133,
   "metadata": {},
   "outputs": [],
   "source": [
    "data_merged=data_merged[['description', 'Sex', \n",
    "       'Total Observed scale h2', 'Total Observed scale h2_se','Total Liability scale h2', 'Total Liability scale h2_se','-log10(h2_p)',\n",
    "        'Intercept', 'Intercept_se','Ratio','Lambda GC','Mean Chi^2',  \n",
    "        'prev(%)','n_missing', 'n_non_missing', 'n_cases', 'n_controls',               \n",
    "       'UK Biobank Data Showcase Link', 'File',# 'Dropbox File',\n",
    "        'source', 'variable_type','PHESANT_transformation','notes'\n",
    "        ]]"
   ]
  },
  {
   "cell_type": "code",
   "execution_count": 134,
   "metadata": {},
   "outputs": [],
   "source": [
    "tosave=data_merged"
   ]
  },
  {
   "cell_type": "code",
   "execution_count": 135,
   "metadata": {},
   "outputs": [],
   "source": [
    "tosave.to_csv(web_data_path+'table_all.csv')"
   ]
  },
  {
   "cell_type": "markdown",
   "metadata": {},
   "source": [
    "# Template Page generation"
   ]
  },
  {
   "cell_type": "code",
   "execution_count": 49,
   "metadata": {},
   "outputs": [],
   "source": [
    "def replace_file(path_in,path_out,mapping_list):\n",
    "    f=open(path_in,'r')\n",
    "    f_read=f.read()\n",
    "    f.close()\n",
    "    \n",
    "    for source,target in mapping_list:\n",
    "        f_read=f_read.replace(source,target)\n",
    "    \n",
    "    f=open(path_out,'w')\n",
    "    f.write(f_read)\n",
    "    f.close()\n",
    "    print(\"sd\")\n",
    "        "
   ]
  },
  {
   "cell_type": "code",
   "execution_count": 1113,
   "metadata": {},
   "outputs": [
    {
     "data": {
      "text/plain": [
       "Index(['M13_ARTHROSIS', 'M13_OTHERJOINT', 'M13_MENISCUSDERANGEMENTS'], dtype='object', name='phenotype')"
      ]
     },
     "execution_count": 1113,
     "metadata": {},
     "output_type": "execute_result"
    }
   ],
   "source": [
    "phenotypes_par_filtered.index[phenotypes_par_filtered.index.str.contains('M13')]"
   ]
  },
  {
   "cell_type": "code",
   "execution_count": 1116,
   "metadata": {},
   "outputs": [
    {
     "data": {
      "text/plain": [
       "'#Other joint disorders'"
      ]
     },
     "execution_count": 1116,
     "metadata": {},
     "output_type": "execute_result"
    }
   ],
   "source": [
    "phenotypes_par_filtered.loc['M13_OTHERJOINT']['description']"
   ]
  },
  {
   "cell_type": "code",
   "execution_count": 50,
   "metadata": {},
   "outputs": [
    {
     "data": {
      "text/plain": [
       "'web/partitioned_heritability_website/'"
      ]
     },
     "execution_count": 50,
     "metadata": {},
     "output_type": "execute_result"
    }
   ],
   "source": [
    "web_path"
   ]
  },
  {
   "cell_type": "code",
   "execution_count": 51,
   "metadata": {},
   "outputs": [
    {
     "name": "stdout",
     "output_type": "stream",
     "text": [
      "sd\n",
      "sd\n",
      "sd\n",
      "sd\n",
      "sd\n",
      "sd\n",
      "sd\n",
      "sd\n",
      "sd\n",
      "sd\n",
      "sd\n",
      "sd\n",
      "sd\n",
      "sd\n",
      "sd\n",
      "sd\n",
      "sd\n",
      "sd\n",
      "sd\n",
      "sd\n",
      "sd\n",
      "sd\n",
      "sd\n",
      "sd\n",
      "sd\n",
      "sd\n",
      "sd\n",
      "sd\n",
      "sd\n",
      "sd\n",
      "sd\n",
      "sd\n",
      "sd\n",
      "sd\n",
      "sd\n",
      "sd\n",
      "sd\n",
      "sd\n",
      "sd\n",
      "sd\n",
      "sd\n",
      "sd\n",
      "sd\n",
      "sd\n",
      "sd\n",
      "sd\n",
      "sd\n",
      "sd\n",
      "sd\n",
      "sd\n",
      "sd\n",
      "sd\n",
      "sd\n",
      "sd\n",
      "sd\n",
      "sd\n",
      "sd\n",
      "sd\n",
      "sd\n",
      "sd\n",
      "sd\n",
      "sd\n",
      "sd\n",
      "sd\n",
      "sd\n",
      "sd\n",
      "sd\n",
      "sd\n",
      "sd\n",
      "sd\n",
      "sd\n",
      "sd\n",
      "sd\n",
      "sd\n",
      "sd\n",
      "sd\n",
      "sd\n",
      "sd\n",
      "sd\n",
      "sd\n",
      "sd\n",
      "sd\n",
      "sd\n",
      "sd\n",
      "sd\n",
      "sd\n",
      "sd\n",
      "sd\n",
      "sd\n",
      "sd\n",
      "sd\n",
      "sd\n",
      "sd\n",
      "sd\n",
      "sd\n",
      "sd\n",
      "sd\n",
      "sd\n",
      "sd\n",
      "sd\n",
      "sd\n",
      "sd\n",
      "sd\n",
      "sd\n",
      "sd\n",
      "sd\n",
      "sd\n",
      "sd\n",
      "sd\n",
      "sd\n",
      "sd\n",
      "sd\n",
      "sd\n",
      "sd\n",
      "sd\n",
      "sd\n",
      "sd\n",
      "sd\n",
      "sd\n",
      "sd\n",
      "sd\n",
      "sd\n",
      "sd\n",
      "sd\n",
      "sd\n",
      "sd\n",
      "sd\n",
      "sd\n",
      "sd\n",
      "sd\n",
      "sd\n",
      "sd\n",
      "sd\n",
      "sd\n",
      "sd\n",
      "sd\n",
      "sd\n",
      "sd\n",
      "sd\n",
      "sd\n",
      "sd\n",
      "sd\n",
      "sd\n",
      "sd\n",
      "sd\n",
      "sd\n",
      "sd\n",
      "sd\n",
      "sd\n",
      "sd\n",
      "sd\n",
      "sd\n",
      "sd\n",
      "sd\n",
      "sd\n",
      "sd\n",
      "sd\n",
      "sd\n",
      "sd\n",
      "sd\n",
      "sd\n",
      "sd\n",
      "sd\n",
      "sd\n",
      "sd\n",
      "sd\n",
      "sd\n",
      "sd\n",
      "sd\n",
      "sd\n",
      "sd\n",
      "sd\n",
      "sd\n",
      "sd\n",
      "sd\n",
      "sd\n",
      "sd\n",
      "sd\n",
      "sd\n",
      "sd\n",
      "sd\n",
      "sd\n",
      "sd\n",
      "sd\n",
      "sd\n",
      "sd\n",
      "sd\n",
      "sd\n",
      "sd\n",
      "sd\n",
      "sd\n",
      "sd\n",
      "sd\n",
      "sd\n",
      "sd\n",
      "sd\n",
      "sd\n",
      "sd\n",
      "sd\n",
      "sd\n",
      "sd\n",
      "sd\n",
      "sd\n",
      "sd\n",
      "sd\n",
      "sd\n",
      "sd\n",
      "sd\n",
      "sd\n",
      "sd\n",
      "sd\n",
      "sd\n",
      "sd\n",
      "sd\n",
      "sd\n",
      "sd\n",
      "sd\n",
      "sd\n",
      "sd\n",
      "sd\n",
      "sd\n",
      "sd\n",
      "sd\n",
      "sd\n",
      "sd\n",
      "sd\n",
      "sd\n",
      "sd\n",
      "sd\n",
      "sd\n",
      "sd\n",
      "sd\n",
      "sd\n",
      "sd\n",
      "sd\n",
      "sd\n",
      "sd\n",
      "sd\n",
      "sd\n",
      "sd\n",
      "sd\n",
      "sd\n",
      "sd\n",
      "sd\n",
      "sd\n",
      "sd\n",
      "sd\n",
      "sd\n",
      "sd\n",
      "sd\n",
      "sd\n",
      "sd\n",
      "sd\n",
      "sd\n",
      "sd\n",
      "sd\n",
      "sd\n",
      "sd\n",
      "sd\n",
      "sd\n",
      "sd\n",
      "sd\n",
      "sd\n",
      "sd\n",
      "sd\n",
      "sd\n",
      "sd\n",
      "sd\n",
      "sd\n",
      "sd\n",
      "sd\n",
      "sd\n",
      "sd\n",
      "sd\n",
      "sd\n",
      "sd\n",
      "sd\n",
      "sd\n",
      "sd\n",
      "sd\n",
      "sd\n",
      "sd\n",
      "sd\n",
      "sd\n",
      "sd\n",
      "sd\n",
      "sd\n",
      "sd\n",
      "sd\n",
      "sd\n",
      "sd\n",
      "sd\n",
      "sd\n",
      "sd\n",
      "sd\n",
      "sd\n",
      "sd\n",
      "sd\n",
      "sd\n",
      "sd\n",
      "sd\n",
      "sd\n",
      "sd\n",
      "sd\n",
      "sd\n",
      "sd\n",
      "sd\n",
      "sd\n",
      "sd\n",
      "sd\n",
      "sd\n",
      "sd\n",
      "sd\n",
      "sd\n",
      "sd\n",
      "sd\n",
      "sd\n",
      "sd\n",
      "sd\n",
      "sd\n",
      "sd\n",
      "sd\n",
      "sd\n",
      "sd\n",
      "sd\n",
      "sd\n",
      "sd\n",
      "sd\n",
      "sd\n",
      "sd\n",
      "sd\n",
      "sd\n",
      "sd\n",
      "sd\n",
      "sd\n",
      "sd\n",
      "sd\n",
      "sd\n",
      "sd\n",
      "sd\n",
      "sd\n",
      "sd\n",
      "sd\n",
      "sd\n",
      "sd\n",
      "sd\n",
      "sd\n",
      "sd\n",
      "sd\n",
      "sd\n",
      "sd\n",
      "sd\n",
      "sd\n",
      "sd\n",
      "sd\n",
      "sd\n",
      "sd\n",
      "sd\n",
      "sd\n",
      "sd\n",
      "sd\n",
      "sd\n",
      "sd\n",
      "sd\n",
      "sd\n",
      "sd\n",
      "sd\n",
      "sd\n",
      "sd\n",
      "sd\n",
      "sd\n",
      "sd\n",
      "sd\n",
      "sd\n",
      "sd\n",
      "sd\n",
      "sd\n",
      "sd\n",
      "sd\n",
      "sd\n",
      "sd\n",
      "sd\n",
      "sd\n",
      "sd\n",
      "sd\n",
      "sd\n",
      "sd\n",
      "sd\n",
      "sd\n",
      "sd\n",
      "sd\n",
      "sd\n",
      "sd\n",
      "sd\n",
      "sd\n",
      "sd\n",
      "sd\n",
      "sd\n",
      "sd\n",
      "sd\n",
      "sd\n",
      "sd\n",
      "sd\n",
      "sd\n",
      "sd\n",
      "sd\n",
      "sd\n",
      "sd\n",
      "sd\n",
      "sd\n",
      "sd\n",
      "sd\n",
      "sd\n",
      "sd\n",
      "sd\n",
      "sd\n",
      "sd\n",
      "sd\n",
      "sd\n",
      "sd\n",
      "sd\n",
      "sd\n",
      "sd\n",
      "sd\n",
      "sd\n",
      "sd\n",
      "sd\n",
      "sd\n",
      "sd\n",
      "sd\n",
      "sd\n",
      "sd\n",
      "sd\n",
      "sd\n",
      "sd\n",
      "sd\n",
      "sd\n",
      "sd\n",
      "sd\n",
      "sd\n",
      "sd\n",
      "sd\n",
      "sd\n",
      "sd\n",
      "sd\n",
      "sd\n",
      "sd\n",
      "sd\n",
      "sd\n",
      "sd\n",
      "sd\n",
      "sd\n",
      "sd\n",
      "sd\n",
      "sd\n",
      "sd\n",
      "sd\n",
      "sd\n",
      "sd\n",
      "sd\n",
      "sd\n",
      "sd\n",
      "sd\n",
      "sd\n",
      "sd\n",
      "sd\n",
      "sd\n",
      "sd\n",
      "sd\n",
      "sd\n",
      "sd\n",
      "sd\n",
      "sd\n",
      "sd\n",
      "sd\n",
      "sd\n",
      "sd\n",
      "sd\n",
      "sd\n",
      "sd\n",
      "sd\n",
      "sd\n",
      "sd\n",
      "sd\n",
      "sd\n",
      "sd\n",
      "sd\n",
      "sd\n",
      "sd\n",
      "sd\n",
      "sd\n",
      "sd\n",
      "sd\n",
      "sd\n",
      "sd\n",
      "sd\n",
      "sd\n"
     ]
    }
   ],
   "source": [
    "for idx,row in phenotypes_par_filtered.iterrows():\n",
    "    target_1=idx\n",
    "    target_2=row['description'].replace(':','.')\n",
    "    target_2=target_2.replace('#','')\n",
    "    \n",
    "    replace_file(web_path+'content/phenotype/template.rmd',web_path+'content/phenotype/{}.rmd'.format(idx),\n",
    "                 \n",
    "             [('23115_irnt',target_1),('Leg fat percentage',target_2)]\n",
    "            )\n",
    "    #bokeh_to_html(bokeh_anova_pheno(anova_df_pval_times,idx),web_phenotype_anova_phenotype_path.format(idx))\n",
    "    #with open(web_phenotype_anova_phenotype_path.format(idx),'w') as f:\n",
    "    #    json.dump(bokeh_anova_pheno(anova_df_pval_times,idx),f)"
   ]
  }
 ],
 "metadata": {
  "kernelspec": {
   "display_name": "Python 3",
   "language": "python",
   "name": "python3"
  },
  "language_info": {
   "codemirror_mode": {
    "name": "ipython",
    "version": 3
   },
   "file_extension": ".py",
   "mimetype": "text/x-python",
   "name": "python",
   "nbconvert_exporter": "python",
   "pygments_lexer": "ipython3",
   "version": "3.7.3"
  },
  "toc-autonumbering": true
 },
 "nbformat": 4,
 "nbformat_minor": 2
}
