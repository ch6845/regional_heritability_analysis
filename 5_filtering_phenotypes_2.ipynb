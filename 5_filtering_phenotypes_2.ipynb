{
 "cells": [
  {
   "cell_type": "code",
   "execution_count": 1,
   "metadata": {},
   "outputs": [],
   "source": [
    "from basic_tools import *\n",
    "\n",
    "debug=False"
   ]
  },
  {
   "cell_type": "code",
   "execution_count": 2,
   "metadata": {},
   "outputs": [
    {
     "data": {
      "text/html": [
       "<div>\n",
       "<style scoped>\n",
       "    .dataframe tbody tr th:only-of-type {\n",
       "        vertical-align: middle;\n",
       "    }\n",
       "\n",
       "    .dataframe tbody tr th {\n",
       "        vertical-align: top;\n",
       "    }\n",
       "\n",
       "    .dataframe thead th {\n",
       "        text-align: right;\n",
       "    }\n",
       "</style>\n",
       "<table border=\"1\" class=\"dataframe\">\n",
       "  <thead>\n",
       "    <tr style=\"text-align: right;\">\n",
       "      <th></th>\n",
       "      <th>uni.filename</th>\n",
       "      <th>uni.Total Observed scale h2</th>\n",
       "      <th>uni.Total Observed scale h2_se</th>\n",
       "      <th>uni.Total Liability scale h2</th>\n",
       "      <th>uni.Total Liability scale h2_se</th>\n",
       "      <th>uni.Lambda GC</th>\n",
       "      <th>uni.Mean Chi^2</th>\n",
       "      <th>uni.Intercept</th>\n",
       "      <th>uni.Intercept_se</th>\n",
       "      <th>uni.Ratio</th>\n",
       "    </tr>\n",
       "    <tr>\n",
       "      <th>phenotype</th>\n",
       "      <th></th>\n",
       "      <th></th>\n",
       "      <th></th>\n",
       "      <th></th>\n",
       "      <th></th>\n",
       "      <th></th>\n",
       "      <th></th>\n",
       "      <th></th>\n",
       "      <th></th>\n",
       "      <th></th>\n",
       "    </tr>\n",
       "  </thead>\n",
       "  <tbody>\n",
       "    <tr>\n",
       "      <th>50_irnt</th>\n",
       "      <td>data/out_final/uni.50_irnt.ldsc.log</td>\n",
       "      <td>0.3772</td>\n",
       "      <td>0.0197</td>\n",
       "      <td>0.3772</td>\n",
       "      <td>0.0197</td>\n",
       "      <td>2.5074</td>\n",
       "      <td>4.7497</td>\n",
       "      <td>1.6108</td>\n",
       "      <td>0.0373</td>\n",
       "      <td>0.1629 (0.0099)</td>\n",
       "    </tr>\n",
       "    <tr>\n",
       "      <th>20153_irnt</th>\n",
       "      <td>data/out_final/uni.20153_irnt.ldsc.log</td>\n",
       "      <td>0.3293</td>\n",
       "      <td>0.0209</td>\n",
       "      <td>0.3293</td>\n",
       "      <td>0.0209</td>\n",
       "      <td>1.5696</td>\n",
       "      <td>2.1139</td>\n",
       "      <td>1.2127</td>\n",
       "      <td>0.0188</td>\n",
       "      <td>0.1909 (0.0169)</td>\n",
       "    </tr>\n",
       "    <tr>\n",
       "      <th>5097_irnt</th>\n",
       "      <td>data/out_final/uni.5097_irnt.ldsc.log</td>\n",
       "      <td>0.2878</td>\n",
       "      <td>0.0233</td>\n",
       "      <td>0.2878</td>\n",
       "      <td>0.0233</td>\n",
       "      <td>1.3169</td>\n",
       "      <td>1.5435</td>\n",
       "      <td>1.1186</td>\n",
       "      <td>0.0134</td>\n",
       "      <td>0.2183 (0.0246)</td>\n",
       "    </tr>\n",
       "    <tr>\n",
       "      <th>5098_irnt</th>\n",
       "      <td>data/out_final/uni.5098_irnt.ldsc.log</td>\n",
       "      <td>0.2825</td>\n",
       "      <td>0.0223</td>\n",
       "      <td>0.2825</td>\n",
       "      <td>0.0223</td>\n",
       "      <td>1.3203</td>\n",
       "      <td>1.5455</td>\n",
       "      <td>1.1236</td>\n",
       "      <td>0.0135</td>\n",
       "      <td>0.2266 (0.0247)</td>\n",
       "    </tr>\n",
       "    <tr>\n",
       "      <th>5133_irnt</th>\n",
       "      <td>data/out_final/uni.5133_irnt.ldsc.log</td>\n",
       "      <td>0.2771</td>\n",
       "      <td>0.0221</td>\n",
       "      <td>0.2771</td>\n",
       "      <td>0.0221</td>\n",
       "      <td>1.3068</td>\n",
       "      <td>1.5356</td>\n",
       "      <td>1.1237</td>\n",
       "      <td>0.0135</td>\n",
       "      <td>0.231 (0.0252)</td>\n",
       "    </tr>\n",
       "  </tbody>\n",
       "</table>\n",
       "</div>"
      ],
      "text/plain": [
       "                                      uni.filename  \\\n",
       "phenotype                                            \n",
       "50_irnt        data/out_final/uni.50_irnt.ldsc.log   \n",
       "20153_irnt  data/out_final/uni.20153_irnt.ldsc.log   \n",
       "5097_irnt    data/out_final/uni.5097_irnt.ldsc.log   \n",
       "5098_irnt    data/out_final/uni.5098_irnt.ldsc.log   \n",
       "5133_irnt    data/out_final/uni.5133_irnt.ldsc.log   \n",
       "\n",
       "            uni.Total Observed scale h2  uni.Total Observed scale h2_se  \\\n",
       "phenotype                                                                 \n",
       "50_irnt                          0.3772                          0.0197   \n",
       "20153_irnt                       0.3293                          0.0209   \n",
       "5097_irnt                        0.2878                          0.0233   \n",
       "5098_irnt                        0.2825                          0.0223   \n",
       "5133_irnt                        0.2771                          0.0221   \n",
       "\n",
       "            uni.Total Liability scale h2  uni.Total Liability scale h2_se  \\\n",
       "phenotype                                                                   \n",
       "50_irnt                           0.3772                           0.0197   \n",
       "20153_irnt                        0.3293                           0.0209   \n",
       "5097_irnt                         0.2878                           0.0233   \n",
       "5098_irnt                         0.2825                           0.0223   \n",
       "5133_irnt                         0.2771                           0.0221   \n",
       "\n",
       "            uni.Lambda GC  uni.Mean Chi^2  uni.Intercept  uni.Intercept_se  \\\n",
       "phenotype                                                                    \n",
       "50_irnt            2.5074          4.7497         1.6108            0.0373   \n",
       "20153_irnt         1.5696          2.1139         1.2127            0.0188   \n",
       "5097_irnt          1.3169          1.5435         1.1186            0.0134   \n",
       "5098_irnt          1.3203          1.5455         1.1236            0.0135   \n",
       "5133_irnt          1.3068          1.5356         1.1237            0.0135   \n",
       "\n",
       "                  uni.Ratio  \n",
       "phenotype                    \n",
       "50_irnt     0.1629 (0.0099)  \n",
       "20153_irnt  0.1909 (0.0169)  \n",
       "5097_irnt   0.2183 (0.0246)  \n",
       "5098_irnt   0.2266 (0.0247)  \n",
       "5133_irnt    0.231 (0.0252)  "
      ]
     },
     "execution_count": 2,
     "metadata": {},
     "output_type": "execute_result"
    }
   ],
   "source": [
    "h2_myuni_sorted=read_ldsc('uni',False)\n",
    "h2_myuni_sorted.head()"
   ]
  },
  {
   "cell_type": "code",
   "execution_count": 3,
   "metadata": {},
   "outputs": [
    {
     "data": {
      "text/plain": [
       "(561, 10)"
      ]
     },
     "execution_count": 3,
     "metadata": {},
     "output_type": "execute_result"
    }
   ],
   "source": [
    "h2_myuni_sorted.shape"
   ]
  },
  {
   "cell_type": "code",
   "execution_count": 4,
   "metadata": {},
   "outputs": [
    {
     "name": "stdout",
     "output_type": "stream",
     "text": [
      "bp300 was loaded\n",
      "bp128 was loaded\n",
      "bp64 was loaded\n",
      "bp32 was loaded\n",
      "bp16 was loaded\n",
      "bp8 was loaded\n"
     ]
    }
   ],
   "source": [
    "suffix_bp_list_power=\"bp300 bp128 bp64 bp32 bp16 bp8\".split()\n",
    "suffix_bp_list_full=\"bp300 bp128 bp64 bp32 bp16 bp8\".split()\n",
    "\n",
    "h2_bp_sorted_list=[]\n",
    "for suffix in suffix_bp_list_full:\n",
    "    h2_bp_sorted_list.append(read_ldsc(suffix,verbose=True))\n",
    "    print(suffix,\"was loaded\")"
   ]
  },
  {
   "cell_type": "code",
   "execution_count": 6,
   "metadata": {},
   "outputs": [],
   "source": [
    "h2_total=h2_bp_sorted_list[0].copy()\n",
    "for h2_bp_sorted in h2_bp_sorted_list[1:]:\n",
    "    h2_total=h2_total.join(h2_bp_sorted)\n",
    "\n",
    "h2_total=h2_total.join(h2_myuni_sorted)"
   ]
  },
  {
   "cell_type": "code",
   "execution_count": 7,
   "metadata": {},
   "outputs": [],
   "source": [
    "regression_result_bp_list_dict=dict([make_regression_result_list(h2_total,phenotype,suffix_bp_list_power) for phenotype in phenotypes_uni_filtered.index])"
   ]
  },
  {
   "cell_type": "code",
   "execution_count": 8,
   "metadata": {},
   "outputs": [],
   "source": [
    "h2_bp8_df=pd.DataFrame([[phenotype]+(regression_result_list[-1]['h2']/regression_result_list[-1]['h2'].sum()).tolist() for phenotype,regression_result_list in regression_result_bp_list_dict.items()])\n",
    "h2_bp8_df=h2_bp8_df.set_index(0)"
   ]
  },
  {
   "cell_type": "code",
   "execution_count": 9,
   "metadata": {},
   "outputs": [],
   "source": [
    "edges=h2_bp8_df.T.corr().mask(np.tril(np.ones(h2_bp8_df.T.corr().shape)).astype(np.bool)).stack()\n",
    "edges=pd.DataFrame([[edge[0][0],edge[0][1],edge[1]] for edge in edges.iteritems()],columns=['source','target','value'])"
   ]
  },
  {
   "cell_type": "code",
   "execution_count": 10,
   "metadata": {},
   "outputs": [],
   "source": [
    "edges_filtered=edges.loc[(edges['value'] > 0.97) & (edges['source'] != edges['target'])]"
   ]
  },
  {
   "cell_type": "code",
   "execution_count": 11,
   "metadata": {},
   "outputs": [],
   "source": [
    "groups=[]\n",
    "for idx,row in edges_filtered.iterrows():\n",
    "    try:\n",
    "        group_index=[(row['source'] in groups[i] or row['target'] in groups[i]) for i in range(len(groups))].index(True)\n",
    "        groups[group_index].add(row['source'])\n",
    "        groups[group_index].add(row['target'])\n",
    "    except:\n",
    "        groups.append({row['source'],row['target']})"
   ]
  },
  {
   "cell_type": "code",
   "execution_count": 12,
   "metadata": {},
   "outputs": [],
   "source": [
    "phenotypes_par_filtered=phenotypes_uni_filtered.copy()"
   ]
  },
  {
   "cell_type": "code",
   "execution_count": 13,
   "metadata": {},
   "outputs": [],
   "source": [
    "phenotypes_par_filtered['group_id']=[np.argmax([False]+[idx in group for group in groups]) for idx,row in phenotypes_par_filtered.iterrows()]"
   ]
  },
  {
   "cell_type": "code",
   "execution_count": 14,
   "metadata": {},
   "outputs": [],
   "source": [
    "phenotypes_par_filtered['uni.Total Liability scale h2']=h2_total['uni.Total Liability scale h2']\n",
    "phenotypes_par_filtered['uni.Total Liability scale h2_se']=h2_total['uni.Total Liability scale h2_se']\n",
    "phenotypes_par_filtered['uni.Total Liability scale h2_z']=phenotypes_par_filtered['uni.Total Liability scale h2']/phenotypes_par_filtered['uni.Total Liability scale h2_se']"
   ]
  },
  {
   "cell_type": "code",
   "execution_count": null,
   "metadata": {},
   "outputs": [],
   "source": [
    "for group_id in list(filter(lambda x: x!=0,phenotypes_par_filtered['group_id'].unique())):\n",
    "    phenotypes_par_filtered_selected=phenotypes_par_filtered[phenotypes_par_filtered['group_id']==group_id]\n",
    "    print(phenotypes_par_filtered_selected.sort_values('uni.Total Liability scale h2_z',ascending=False)[['description']])\n",
    "    drop_idx_list=phenotypes_par_filtered_selected.sort_values('uni.Total Liability scale h2_z',ascending=False).index[1:]\n",
    "    phenotypes_par_filtered.drop(drop_idx_list,axis='index',inplace=True)"
   ]
  },
  {
   "cell_type": "code",
   "execution_count": 16,
   "metadata": {},
   "outputs": [
    {
     "data": {
      "text/plain": [
       "(497, 19)"
      ]
     },
     "execution_count": 16,
     "metadata": {},
     "output_type": "execute_result"
    }
   ],
   "source": [
    "phenotypes_par_filtered.shape"
   ]
  },
  {
   "cell_type": "code",
   "execution_count": 17,
   "metadata": {},
   "outputs": [],
   "source": [
    "phenotypes_uni_filtered.loc[phenotypes_par_filtered.index].to_csv(phenotypes_par_filtered_path)"
   ]
  }
 ],
 "metadata": {
  "kernelspec": {
   "display_name": "Python 3",
   "language": "python",
   "name": "python3"
  },
  "language_info": {
   "codemirror_mode": {
    "name": "ipython",
    "version": 3
   },
   "file_extension": ".py",
   "mimetype": "text/x-python",
   "name": "python",
   "nbconvert_exporter": "python",
   "pygments_lexer": "ipython3",
   "version": "3.7.3"
  }
 },
 "nbformat": 4,
 "nbformat_minor": 2
}
