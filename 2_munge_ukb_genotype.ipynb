{
 "cells": [
  {
   "cell_type": "code",
   "execution_count": 1,
   "metadata": {},
   "outputs": [],
   "source": [
    "import sys\n",
    "import numpy as np\n",
    "import pandas as pd\n",
    "import matplotlib.pyplot as plt\n",
    "import seaborn as sns\n",
    "import os\n",
    "import glob\n",
    "import time\n",
    "import subprocess as sp\n",
    "import multiprocessing as mp\n",
    "import psutil\n",
    "import importlib\n",
    "\n",
    "\n",
    "from path_configure import *\n",
    "#importlib.reload()"
   ]
  },
  {
   "cell_type": "markdown",
   "metadata": {},
   "source": [
    "# Download 1000G Phase 3 data\n",
    "Download from https://www.cog-genomics.org/plink/2.0/resources#1kg_phase3."
   ]
  },
  {
   "cell_type": "markdown",
   "metadata": {},
   "source": [
    "reference: https://cran.r-project.org/web/packages/plinkQC/vignettes/Genomes1000.pdf"
   ]
  },
  {
   "cell_type": "markdown",
   "metadata": {},
   "source": [
    "# Extracting EUR population"
   ]
  },
  {
   "cell_type": "markdown",
   "metadata": {},
   "source": [
    "```\n",
    "import pandas as pd\n",
    "\n",
    "sam = pd.read_csv('/data01/1000G_plink2_all/all_phase3.psam',sep = '\\t', names = ['IID','PAT', 'MAT', 'SEX', 'SuperPop', 'Population'])\n",
    "eur_sam = sam[sam['SuperPop']=='EUR']\n",
    "eur_sam.to_csv('/data01/1000G_plink2_EUR/included.txt', sep = '\\t',index = False, header = False)\n",
    "```"
   ]
  },
  {
   "cell_type": "markdown",
   "metadata": {},
   "source": [
    "```\n",
    "for achr in 1 2 3 4 5 6 7 8 9 10 11 12 13 14 15 16 17 18 19 20 21 22\n",
    "do\n",
    "        ./plink2 --pfile ../1000G_plink2_all/all_phase3 --threads 50 --keep included.txt --chr ${achr} --make-pgen --out ./EUR_phase3_chr${achr}\n",
    "done\n",
    "```"
   ]
  },
  {
   "cell_type": "markdown",
   "metadata": {},
   "source": [
    "# Converting to plink1.9 format(*.bim,*.bed,*.fam) with CM position appended"
   ]
  },
  {
   "cell_type": "markdown",
   "metadata": {},
   "source": [
    "genetic map from https://mathgen.stats.ox.ac.uk/impute/1000GP%20Phase%203%20haplotypes%206%20October%202014.html"
   ]
  },
  {
   "cell_type": "markdown",
   "metadata": {},
   "source": [
    "```\n",
    "for i in {1..22}\n",
    "do\n",
    "chrN=$i && plink2 --pfile \"/data01/1000G_plink2_EUR/EUR_phase3_chr${chrN}\" --max-alleles 2 --make-bed --out \"data/1000G_plink_EUR_temp/EUR_phase3_chr${chrN}\"\n",
    "done\n",
    "\n",
    "for i in {1..22}\n",
    "do\n",
    "chrN=$i && plink --bfile \"data/1000G_plink_EUR_temp/EUR_phase3_chr${chrN}\" --cm-map \"/data01/ch6845/geneticmap/genetic_map_chr@_combined_b37.txt\"  --make-bed --out \"data/1000G_plink_EUR/EUR_phase3_chr${chrN}\"\n",
    "done\n",
    "```"
   ]
  }
 ],
 "metadata": {
  "kernelspec": {
   "display_name": "Python 3",
   "language": "python",
   "name": "python3"
  },
  "language_info": {
   "codemirror_mode": {
    "name": "ipython",
    "version": 3
   },
   "file_extension": ".py",
   "mimetype": "text/x-python",
   "name": "python",
   "nbconvert_exporter": "python",
   "pygments_lexer": "ipython3",
   "version": "3.7.3"
  }
 },
 "nbformat": 4,
 "nbformat_minor": 2
}
